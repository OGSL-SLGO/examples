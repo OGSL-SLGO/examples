{
 "cells": [
  {
   "cell_type": "markdown",
   "metadata": {},
   "source": [
    "# Exemple d'utilisation de données océanographiques (2/2)\n",
    "\n",
    "> Note: Si ce notebook est ouvert dans jupyterlab, veillez à ce que le gestionaire d'extensions soit activé et que l'extension\n",
    "> jupyter-plotly est bien installée\n",
    "\n",
    "Ceci es la suite de xxxxx\n",
    "\n",
    "Nous allons afficher l'évolution de la température pour le site SJR_Evandale\n",
    "\n",
    "Récupérons les données de se site à la profondeur 20m sur toute l'étendue temporelle"
   ]
  },
  {
   "cell_type": "code",
   "execution_count": 1,
   "metadata": {},
   "outputs": [
    {
     "data": {
      "text/html": [
       "<div>\n",
       "<style scoped>\n",
       "    .dataframe tbody tr th:only-of-type {\n",
       "        vertical-align: middle;\n",
       "    }\n",
       "\n",
       "    .dataframe tbody tr th {\n",
       "        vertical-align: top;\n",
       "    }\n",
       "\n",
       "    .dataframe thead tr th {\n",
       "        text-align: left;\n",
       "    }\n",
       "</style>\n",
       "<table border=\"1\" class=\"dataframe\">\n",
       "  <thead>\n",
       "    <tr>\n",
       "      <th></th>\n",
       "      <th>site_name</th>\n",
       "      <th>time</th>\n",
       "      <th>sea_water_temperature</th>\n",
       "    </tr>\n",
       "    <tr>\n",
       "      <th></th>\n",
       "      <th>Unnamed: 0_level_1</th>\n",
       "      <th>UTC</th>\n",
       "      <th>degree_C</th>\n",
       "    </tr>\n",
       "  </thead>\n",
       "  <tbody>\n",
       "    <tr>\n",
       "      <th>0</th>\n",
       "      <td>SJR_Evandale</td>\n",
       "      <td>2019-07-24T14:36:00Z</td>\n",
       "      <td>23.402466</td>\n",
       "    </tr>\n",
       "    <tr>\n",
       "      <th>1</th>\n",
       "      <td>SJR_Evandale</td>\n",
       "      <td>2019-07-24T14:37:00Z</td>\n",
       "      <td>23.396790</td>\n",
       "    </tr>\n",
       "    <tr>\n",
       "      <th>2</th>\n",
       "      <td>SJR_Evandale</td>\n",
       "      <td>2019-07-24T14:38:00Z</td>\n",
       "      <td>23.399720</td>\n",
       "    </tr>\n",
       "    <tr>\n",
       "      <th>3</th>\n",
       "      <td>SJR_Evandale</td>\n",
       "      <td>2019-07-24T14:39:00Z</td>\n",
       "      <td>23.397125</td>\n",
       "    </tr>\n",
       "    <tr>\n",
       "      <th>4</th>\n",
       "      <td>SJR_Evandale</td>\n",
       "      <td>2019-07-24T14:40:00Z</td>\n",
       "      <td>23.400116</td>\n",
       "    </tr>\n",
       "  </tbody>\n",
       "</table>\n",
       "</div>"
      ],
      "text/plain": [
       "           site_name                  time sea_water_temperature\n",
       "  Unnamed: 0_level_1                   UTC              degree_C\n",
       "0       SJR_Evandale  2019-07-24T14:36:00Z             23.402466\n",
       "1       SJR_Evandale  2019-07-24T14:37:00Z             23.396790\n",
       "2       SJR_Evandale  2019-07-24T14:38:00Z             23.399720\n",
       "3       SJR_Evandale  2019-07-24T14:39:00Z             23.397125\n",
       "4       SJR_Evandale  2019-07-24T14:40:00Z             23.400116"
      ]
     },
     "execution_count": 1,
     "metadata": {},
     "output_type": "execute_result"
    }
   ],
   "source": [
    "import pandas as pd\n",
    "\n",
    "data_url_site = \"https://erddap.ogsl.ca/erddap/tabledap/mpoMaritimeStJohnCTD.csv?site_name%2Ctime%2Csea_water_temperature&site_name=%22SJR_Evandale%22&depth=20.0&orderBy(%22time%22)\"\n",
    "\n",
    "dataframe_site = pd.read_csv(data_url_site, header=[0,1])\n",
    "dataframe_site.head()"
   ]
  },
  {
   "cell_type": "code",
   "execution_count": 2,
   "metadata": {},
   "outputs": [
    {
     "data": {
      "text/html": [
       "<div>\n",
       "<style scoped>\n",
       "    .dataframe tbody tr th:only-of-type {\n",
       "        vertical-align: middle;\n",
       "    }\n",
       "\n",
       "    .dataframe tbody tr th {\n",
       "        vertical-align: top;\n",
       "    }\n",
       "\n",
       "    .dataframe thead tr th {\n",
       "        text-align: left;\n",
       "    }\n",
       "</style>\n",
       "<table border=\"1\" class=\"dataframe\">\n",
       "  <thead>\n",
       "    <tr>\n",
       "      <th></th>\n",
       "      <th>site_name</th>\n",
       "      <th>time</th>\n",
       "      <th>sea_water_temperature</th>\n",
       "    </tr>\n",
       "    <tr>\n",
       "      <th></th>\n",
       "      <th>Unnamed: 0_level_1</th>\n",
       "      <th>UTC</th>\n",
       "      <th>degree_C</th>\n",
       "    </tr>\n",
       "  </thead>\n",
       "  <tbody>\n",
       "    <tr>\n",
       "      <th>0</th>\n",
       "      <td>SJR_Evandale</td>\n",
       "      <td>2019-07-24T14:36:00Z</td>\n",
       "      <td>23.402466</td>\n",
       "    </tr>\n",
       "    <tr>\n",
       "      <th>1</th>\n",
       "      <td>SJR_Evandale</td>\n",
       "      <td>2019-07-24T14:37:00Z</td>\n",
       "      <td>23.396790</td>\n",
       "    </tr>\n",
       "    <tr>\n",
       "      <th>2</th>\n",
       "      <td>SJR_Evandale</td>\n",
       "      <td>2019-07-24T14:38:00Z</td>\n",
       "      <td>23.399720</td>\n",
       "    </tr>\n",
       "    <tr>\n",
       "      <th>3</th>\n",
       "      <td>SJR_Evandale</td>\n",
       "      <td>2019-07-24T14:39:00Z</td>\n",
       "      <td>23.397125</td>\n",
       "    </tr>\n",
       "    <tr>\n",
       "      <th>4</th>\n",
       "      <td>SJR_Evandale</td>\n",
       "      <td>2019-07-24T14:40:00Z</td>\n",
       "      <td>23.400116</td>\n",
       "    </tr>\n",
       "  </tbody>\n",
       "</table>\n",
       "</div>"
      ],
      "text/plain": [
       "           site_name                  time sea_water_temperature\n",
       "  Unnamed: 0_level_1                   UTC              degree_C\n",
       "0       SJR_Evandale  2019-07-24T14:36:00Z             23.402466\n",
       "1       SJR_Evandale  2019-07-24T14:37:00Z             23.396790\n",
       "2       SJR_Evandale  2019-07-24T14:38:00Z             23.399720\n",
       "3       SJR_Evandale  2019-07-24T14:39:00Z             23.397125\n",
       "4       SJR_Evandale  2019-07-24T14:40:00Z             23.400116"
      ]
     },
     "execution_count": 2,
     "metadata": {},
     "output_type": "execute_result"
    }
   ],
   "source": [
    "dataframe_site.head()"
   ]
  },
  {
   "cell_type": "code",
   "execution_count": 3,
   "metadata": {},
   "outputs": [],
   "source": [
    "dataframe_site.columns = dataframe_site.columns.droplevel(-1)"
   ]
  },
  {
   "cell_type": "markdown",
   "metadata": {},
   "source": [
    "La granularité temporelle étant très fine nous allons calculer par journées une valeur min, max, et moyenne de la température."
   ]
  },
  {
   "cell_type": "code",
   "execution_count": 4,
   "metadata": {},
   "outputs": [
    {
     "data": {
      "text/html": [
       "<div>\n",
       "<style scoped>\n",
       "    .dataframe tbody tr th:only-of-type {\n",
       "        vertical-align: middle;\n",
       "    }\n",
       "\n",
       "    .dataframe tbody tr th {\n",
       "        vertical-align: top;\n",
       "    }\n",
       "\n",
       "    .dataframe thead th {\n",
       "        text-align: right;\n",
       "    }\n",
       "</style>\n",
       "<table border=\"1\" class=\"dataframe\">\n",
       "  <thead>\n",
       "    <tr style=\"text-align: right;\">\n",
       "      <th></th>\n",
       "      <th>min</th>\n",
       "      <th>max</th>\n",
       "      <th>mean</th>\n",
       "    </tr>\n",
       "    <tr>\n",
       "      <th>time</th>\n",
       "      <th></th>\n",
       "      <th></th>\n",
       "      <th></th>\n",
       "    </tr>\n",
       "  </thead>\n",
       "  <tbody>\n",
       "    <tr>\n",
       "      <th>2019-07-24 00:00:00+00:00</th>\n",
       "      <td>23.275300</td>\n",
       "      <td>23.449432</td>\n",
       "      <td>23.356635</td>\n",
       "    </tr>\n",
       "    <tr>\n",
       "      <th>2019-07-25 00:00:00+00:00</th>\n",
       "      <td>23.358551</td>\n",
       "      <td>23.800049</td>\n",
       "      <td>23.512278</td>\n",
       "    </tr>\n",
       "    <tr>\n",
       "      <th>2019-07-26 00:00:00+00:00</th>\n",
       "      <td>23.469910</td>\n",
       "      <td>23.768158</td>\n",
       "      <td>23.639875</td>\n",
       "    </tr>\n",
       "    <tr>\n",
       "      <th>2019-07-27 00:00:00+00:00</th>\n",
       "      <td>23.633636</td>\n",
       "      <td>23.901093</td>\n",
       "      <td>23.762446</td>\n",
       "    </tr>\n",
       "    <tr>\n",
       "      <th>2019-07-28 00:00:00+00:00</th>\n",
       "      <td>23.676666</td>\n",
       "      <td>23.973877</td>\n",
       "      <td>23.862269</td>\n",
       "    </tr>\n",
       "  </tbody>\n",
       "</table>\n",
       "</div>"
      ],
      "text/plain": [
       "                                 min        max       mean\n",
       "time                                                      \n",
       "2019-07-24 00:00:00+00:00  23.275300  23.449432  23.356635\n",
       "2019-07-25 00:00:00+00:00  23.358551  23.800049  23.512278\n",
       "2019-07-26 00:00:00+00:00  23.469910  23.768158  23.639875\n",
       "2019-07-27 00:00:00+00:00  23.633636  23.901093  23.762446\n",
       "2019-07-28 00:00:00+00:00  23.676666  23.973877  23.862269"
      ]
     },
     "execution_count": 4,
     "metadata": {},
     "output_type": "execute_result"
    }
   ],
   "source": [
    "dataframe_site['time'] = pd.to_datetime(dataframe_site['time'])\n",
    "\n",
    "daily_aggregations = dataframe_site.groupby(pd.Grouper(key=\"time\", freq='1D'))[\"sea_water_temperature\"].agg(['min', 'max', 'mean'])\n",
    "\n",
    "daily_aggregations.head()"
   ]
  },
  {
   "cell_type": "markdown",
   "metadata": {},
   "source": [
    "Affichons ces trois données sur un même graphique"
   ]
  },
  {
   "cell_type": "code",
   "execution_count": 6,
   "metadata": {},
   "outputs": [
    {
     "data": {
      "image/svg+xml": "<svg class=\"main-svg\" xmlns=\"http://www.w3.org/2000/svg\" xmlns:xlink=\"http://www.w3.org/1999/xlink\" width=\"700\" height=\"500\" style=\"\" viewBox=\"0 0 700 500\"><rect x=\"0\" y=\"0\" width=\"700\" height=\"500\" style=\"fill: rgb(255, 255, 255); fill-opacity: 1;\"/><defs id=\"defs-a9cfcf\"><g class=\"clips\"><clipPath id=\"clipa9cfcfxyplot\" class=\"plotclip\"><rect width=\"503\" height=\"320\"/></clipPath><clipPath class=\"axesclip\" id=\"clipa9cfcfx\"><rect x=\"80\" y=\"0\" width=\"503\" height=\"500\"/></clipPath><clipPath class=\"axesclip\" id=\"clipa9cfcfy\"><rect x=\"0\" y=\"100\" width=\"700\" height=\"320\"/></clipPath><clipPath class=\"axesclip\" id=\"clipa9cfcfxy\"><rect x=\"80\" y=\"100\" width=\"503\" height=\"320\"/></clipPath></g><g class=\"gradients\"/><g class=\"patterns\"/></defs><g class=\"bglayer\"><rect class=\"bg\" x=\"80\" y=\"100\" width=\"503\" height=\"320\" style=\"fill: rgb(229, 236, 246); fill-opacity: 1; stroke-width: 0;\"/></g><g class=\"layer-below\"><g class=\"imagelayer\"/><g class=\"shapelayer\"/></g><g class=\"cartesianlayer\"><g class=\"subplot xy\"><g class=\"layer-subplot\"><g class=\"shapelayer\"/><g class=\"imagelayer\"/></g><g class=\"minor-gridlayer\"><g class=\"x\"/><g class=\"y\"/></g><g class=\"gridlayer\"><g class=\"x\"><path class=\"xgrid crisp\" transform=\"translate(200.15,0)\" d=\"M0,100v320\" style=\"stroke: rgb(255, 255, 255); stroke-opacity: 1; stroke-width: 1px;\"/><path class=\"xgrid crisp\" transform=\"translate(335.98,0)\" d=\"M0,100v320\" style=\"stroke: rgb(255, 255, 255); stroke-opacity: 1; stroke-width: 1px;\"/><path class=\"xgrid crisp\" transform=\"translate(473.3,0)\" d=\"M0,100v320\" style=\"stroke: rgb(255, 255, 255); stroke-opacity: 1; stroke-width: 1px;\"/></g><g class=\"y\"><path class=\"ygrid crisp\" transform=\"translate(0,344.22)\" d=\"M80,0h503\" style=\"stroke: rgb(255, 255, 255); stroke-opacity: 1; stroke-width: 1px;\"/><path class=\"ygrid crisp\" transform=\"translate(0,284.72)\" d=\"M80,0h503\" style=\"stroke: rgb(255, 255, 255); stroke-opacity: 1; stroke-width: 1px;\"/><path class=\"ygrid crisp\" transform=\"translate(0,225.23000000000002)\" d=\"M80,0h503\" style=\"stroke: rgb(255, 255, 255); stroke-opacity: 1; stroke-width: 1px;\"/><path class=\"ygrid crisp\" transform=\"translate(0,165.73000000000002)\" d=\"M80,0h503\" style=\"stroke: rgb(255, 255, 255); stroke-opacity: 1; stroke-width: 1px;\"/><path class=\"ygrid crisp\" transform=\"translate(0,106.23)\" d=\"M80,0h503\" style=\"stroke: rgb(255, 255, 255); stroke-opacity: 1; stroke-width: 1px;\"/></g></g><g class=\"zerolinelayer\"><path class=\"yzl zl crisp\" transform=\"translate(0,403.71)\" d=\"M80,0h503\" style=\"stroke: rgb(255, 255, 255); stroke-opacity: 1; stroke-width: 2px;\"/></g><path class=\"xlines-below\"/><path class=\"ylines-below\"/><g class=\"overlines-below\"/><g class=\"xaxislayer-below\"/><g class=\"yaxislayer-below\"/><g class=\"overaxes-below\"/><g class=\"plot\" transform=\"translate(80,100)\" clip-path=\"url(#clipa9cfcfxyplot)\"><g class=\"scatterlayer mlayer\"><g class=\"trace scatter tracec328b3\" style=\"stroke-miterlimit: 2; opacity: 1;\"><g class=\"fills\"/><g class=\"errorbars\"/><g class=\"lines\"><path class=\"js-line\" d=\"M0,26.76L1.49,24.44L2.24,22.49L2.99,21.98L3.73,22.84L4.48,22.87L5.22,27.01L5.97,29.04L6.72,35.04L7.46,40.29L8.21,39.49L9.7,50.95L10.45,52.55L11.94,48.97L12.69,48.2L13.43,46.81L14.18,47.15L15.67,44.84L16.42,47.56L19.4,52.75L20.15,53.63L21.64,51.8L22.39,51.06L23.14,47.66L23.88,54.92L24.63,59.12L25.37,58.17L26.87,59.21L27.61,59.17L28.36,58.47L29.11,60.48L30.6,68.18L31.34,69.92L32.09,71.44L32.84,70.73L33.58,69.95L34.33,73.07L36.57,85.35L37.31,95L38.06,104.92L38.81,101.95L39.55,102.88L40.3,101.58L41.05,100.28L41.79,103.68L43.28,103.26L44.03,103.17L45.52,100.66L46.27,98.95L47.02,95.88L47.76,97.2L50,98.07L50.75,105.13L55.97,146.07L56.72,143.62L58.21,136.93L58.96,137.42L59.7,138.26L60.45,141.53L61.94,139.01L62.69,142.74L63.43,143.36L64.18,145.17L66.42,160.72L67.17,162.21L67.91,164.33L68.66,168.85L70.9,174.61L71.64,172L72.39,171.46L73.14,172.03L73.88,170.75L74.63,163.89L75.38,163.67L76.12,178.96L77.61,191.22L78.36,197.93L80.6,227.33L81.35,232.02L82.09,232.23L82.84,233.87L85.08,263.02L85.82,260.98L87.32,269.13L88.06,265.84L90.3,263.94\" style=\"vector-effect: non-scaling-stroke; fill: none; stroke: rgb(99, 110, 250); stroke-opacity: 1; stroke-width: 2px; opacity: 1;\"/><path class=\"js-line\" d=\"M100.75,301.43L101.5,301.63L102.24,303.25L103.73,301.63L104.48,295.73L105.97,303.53L106.72,303.36L107.47,302.49L108.21,299.76L108.96,304L109.7,303.72L130.6,303.48L131.35,303.48L151.5,303.46L152.24,302.81L153.74,303.48L154.48,303.5L162.69,303.2L163.44,302.16L164.18,301.51L164.93,302.04L166.42,303.5L167.17,303.48L170.9,303.25L171.65,302.31L173.14,301.05L173.89,300.68L174.63,301.13L175.38,303.01L182.84,302.97L183.59,302.11L185.08,301.24L185.83,300L187.32,300.13L188.07,298.98L188.81,297.19L189.56,292.93L190.3,290.35L191.05,293.67L192.54,288.62L193.29,294.19L194.04,290.97L194.78,295.4L195.53,299L196.27,293.78L197.77,280.53L198.51,285.41L199.26,290.14L200.01,289.76L202.99,264.08L203.74,261.9L204.48,267.52L205.23,266.92L207.47,244.43L208.22,246.24L208.96,246.58L209.71,241.02L212.69,226.54L213.44,221.3L214.19,225.48L214.93,224.6L216.42,230.54L217.17,239.37L217.92,240.33L218.66,230.86L219.41,230.19L220.16,227.1L221.65,216.59L222.39,215.74L223.89,201.21L224.63,202.11L226.13,190.99L226.87,177.12L229.11,161.31L229.86,153.88L232.1,123.91L232.84,122.14L235.08,128.94L235.83,126.46L236.57,123.79L237.32,116.05L238.07,112.2L238.81,113.84L240.31,108.92L241.05,109.82L241.8,114.04L242.54,109.1L243.29,103.78L244.04,107.65L250.75,40.55L251.5,44.63L252.25,44.62L252.99,43.7L255.23,51.05L255.98,70.22L256.72,74.67L257.47,71.02L258.22,71.49L258.96,69.58L259.71,63.71L260.46,64.41L261.2,65.05L261.95,63.35L262.69,63.07L263.44,63.66L265.68,53.65L266.43,57.33L267.92,77.79L268.66,73.2L270.16,67.19L270.9,67.78L271.65,66.86L272.4,80.11L273.14,69.01L273.89,70.23L274.64,69.15L275.38,66.07L276.13,64.33L276.87,65.1L279.11,54.09L279.86,59.55L280.61,61.27L281.35,56.87L282.84,51.58L283.59,48.95L284.34,46.38L285.08,47.9L285.83,48.85L286.58,46.1L288.81,39L289.56,54.68L290.31,65.17L291.05,63.62L292.55,58.33L293.29,55.55L295.53,71.52L296.28,70.82L297.77,66.9L298.52,65.92L299.26,68.37L300.01,74.96L301.5,81.62L302.25,83.7L302.99,84.47L303.74,83L306.73,76.72L307.47,77.47L308.96,75.23L309.71,74.04L311.2,79.12L311.95,77.7L312.7,79.28L313.44,89.72L314.19,90.93L314.93,95.16L316.43,106.41L317.17,107.67L317.92,108.74L318.67,114.8L320.16,117.77L320.91,117.19L323.89,112.42L324.64,109.82L326.13,104.82L326.88,109.11L328.37,112.98L329.11,112.76L329.86,111.87L330.61,112.75L332.1,121.02L332.85,131.2L335.08,134.56L335.83,135.29L336.58,136.14L337.32,138.41L338.82,142.96L339.56,142.07\" style=\"vector-effect: non-scaling-stroke; fill: none; stroke: rgb(99, 110, 250); stroke-opacity: 1; stroke-width: 2px; opacity: 1;\"/><path class=\"js-line\" d=\"M362.7,252.25L363.44,253.89L364.19,253.02L364.94,251.24L365.68,255.98L366.43,261.48L367.18,259.34L367.92,255.17L368.67,255.32L369.41,259.3L370.16,258.54L370.91,246.25L371.65,247.54L373.15,271.26L373.89,271.14L375.38,261.06L376.13,261.91L379.12,268.53L379.86,269.68L380.61,275.34L381.35,291.24L382.85,303.45L383.59,303.33L385.09,300.57L385.83,295.71L386.58,292.78L387.32,297.87L388.07,298.11L388.82,288.72L389.56,279.76L390.31,296L391.06,297.01L391.8,303.18L393.3,303.67L394.04,303.48L396.28,303.65L397.03,303.47L400.76,303.52L401.5,303.25L405.24,303.14L405.98,302.6L408.22,302.82L408.97,302.95L417.18,302.93L417.92,303.12L423.89,303.27L424.64,303.31L435.83,303.37L436.58,302.03L438.82,295.06L439.57,296.99L441.06,299.28L441.8,300.59L443.3,303.19L444.04,303.32L447.03,302.58L447.77,302.07L449.27,297.33L450.01,298.09L450.76,298.87L451.51,301.58L453,299.6L453.74,297.63L454.49,294.38L455.24,295.42L455.98,295.15L456.73,297.8L457.48,296.73L458.22,297.32L459.72,294.57L460.46,287.78L461.95,294.87L462.7,292.23L463.45,293.8L464.19,290.14L465.69,278.43L466.43,279.12L467.92,278.19L468.67,272.17L471.66,232.23L472.4,233.95L473.89,237.01L474.64,226.05L476.13,210.79L476.88,222.04L477.63,227.62L478.37,222.44L479.12,210.75L479.86,213.55L480.61,213.11L481.36,208.17L482.1,198.26L482.85,205.51L484.34,209.03L485.09,205.41L485.84,203L486.58,205.22L487.33,211.85L488.07,208.93L488.82,213.75L489.57,205.54L491.06,193.13L491.81,192.51L493.3,181.14L494.04,170.63L495.54,158.72L496.28,152.17L497.78,149.12L498.52,143.02L499.27,143.07L500.01,144.14L501.51,135.4L502.25,129.2L503,124.58\" style=\"vector-effect: non-scaling-stroke; fill: none; stroke: rgb(99, 110, 250); stroke-opacity: 1; stroke-width: 2px; opacity: 1;\"/></g><g class=\"points\"/><g class=\"text\"/></g><g class=\"trace scatter tracebaadb9\" style=\"stroke-miterlimit: 2; opacity: 1;\"><g class=\"fills\"/><g class=\"errorbars\"/><g class=\"lines\"><path class=\"js-line\" d=\"M0,24.68L0.75,20.51L1.49,20.89L2.99,18.44L3.73,18.76L4.48,18.42L5.22,16L5.97,18.12L6.72,24.94L8.21,32.1L8.96,34.87L10.45,45.29L11.19,42.26L11.94,43.84L12.69,42.58L15.67,40.13L16.42,40.65L18.66,45.9L19.4,47.4L20.15,47.68L20.9,49.09L23.14,44.03L23.88,42.39L24.63,54.16L25.37,53.47L29.11,55.23L29.85,57.12L31.34,63.98L32.09,64.74L32.84,66.84L33.58,66.56L34.33,68.38L35.08,72.33L39.55,98.96L40.3,96.83L41.05,97.36L41.79,99.49L43.28,102.48L44.03,101.03L45.52,96.23L46.27,90.64L47.02,90.58L47.76,93.35L49.26,93.43L50,96.02L51.49,100.23L52.24,105.23L54.48,122.44L55.23,131.62L55.97,140.93L56.72,136.49L58.21,134.32L58.96,134.96L59.7,135.09L60.45,137.54L61.94,138.06L62.69,137.84L64.18,139.45L64.93,141L65.67,144.34L66.42,152.98L68.66,163.8L69.41,166.26L70.15,167.31L70.9,169.99L73.14,168.38L73.88,162.59L74.63,155.6L75.38,156.37L76.12,163.49L76.87,178.98L77.61,189.43L78.36,189.38L82.09,226.7L82.84,227.11L83.58,231.61L84.33,242.43L85.82,256.17L86.57,258.9L87.32,262.54L88.06,258.08L89.55,258.9L90.3,259.06\" style=\"vector-effect: non-scaling-stroke; fill: none; stroke: rgb(239, 85, 59); stroke-opacity: 1; stroke-width: 2px; opacity: 1;\"/><path class=\"js-line\" d=\"M100.75,299.86L102.24,299.43L102.99,301.52L104.48,286.69L105.23,294.52L106.72,301.23L107.47,294.99L108.21,296.02L108.96,299.85L110.45,303.57L111.2,303.43L120.15,303.13L120.9,303.19L126.87,303.29L127.62,303.36L131.35,303.4L132.09,303.34L141.05,302.89L141.8,302.8L149.26,303.4L150,302.5L151.5,300.3L152.24,300.2L153.74,300.4L154.48,301.28L156.72,303.39L157.47,303.37L159.71,303.42L160.45,302.75L162.69,300.51L163.44,299.72L164.93,299.86L165.68,300.65L167.92,302.19L168.66,302.29L169.41,302.14L170.15,300.71L173.14,297.97L173.89,297.46L174.63,297.49L175.38,299.2L176.87,302.17L177.62,302.99L179.86,300.12L180.6,299.12L182.09,301.29L182.84,300.81L184.33,296.88L185.08,295.63L185.83,294.18L186.57,294.4L188.07,294.51L188.81,291.3L190.3,285.81L191.05,287.77L191.8,284.04L192.54,284.36L193.29,287.14L194.04,286.72L194.78,288.33L195.53,293.61L197.77,272.64L198.51,274.38L199.26,285.23L200.01,283.09L202.24,258.09L202.99,257.26L205.23,259.34L205.98,251.16L207.47,239.79L208.22,242.76L208.96,240.01L209.71,233.86L211.2,232.05L211.95,226.11L212.69,220.18L213.44,220.26L214.19,219.17L214.93,219.97L216.42,224.09L217.17,230.23L217.92,230.4L218.66,225.11L219.41,225.24L220.16,220.67L225.38,186.81L226.13,173.74L226.87,161.25L227.62,161.9L228.36,159.78L229.11,154.23L231.35,117.71L232.1,115.82L232.84,112.48L233.59,112.77L235.83,122.35L236.57,116.37L237.32,106.26L238.07,106.35L238.81,107.19L239.56,106.19L240.31,104.43L241.05,104.77L241.8,108.02L242.54,99.45L243.29,99.61L244.04,95.76L244.78,91.18L245.53,81.13L246.28,78.64L247.02,70.31L250.01,36.15L250.75,32.81L252.99,29.13L253.74,31.69L255.23,38.77L255.98,49.35L257.47,59.19L258.22,58.37L260.46,56.82L261.2,54.79L262.69,57.38L263.44,55.07L264.93,49.8L265.68,43.18L266.43,42.48L267.17,55.82L267.92,67.94L268.66,65.71L270.9,60.91L271.65,62.65L272.4,62.53L273.14,64.56L274.64,64.05L275.38,61.12L276.87,59.12L277.62,54.62L279.86,49.64L280.61,53.93L283.59,43.41L284.34,41.55L285.83,42.36L286.58,41.44L288.81,35.45L289.56,37.7L291.05,56.6L291.8,54.72L294.04,52.33L294.78,54.74L296.28,65.16L297.02,62.83L299.26,63.48L300.01,65.27L301.5,77.68L302.25,77.96L303.74,80.5L304.49,79.91L306.73,75.49L307.47,75.31L308.22,75L308.96,73.88L310.46,71.79L311.2,74.76L312.7,75.49L313.44,75.92L314.93,87.85L315.68,93.75L317.17,104.49L317.92,106.29L318.67,108.12L319.41,112.64L320.16,115.32L320.91,114.75L323.14,112.26L323.89,106.39L325.38,102.63L326.13,102.7L326.88,103.56L327.62,107.03L329.11,110.08L329.86,110.54L331.35,112.28L332.1,115.11L334.34,131.74L335.08,133.75L337.32,135.73L338.07,138.31L339.56,141.57\" style=\"vector-effect: non-scaling-stroke; fill: none; stroke: rgb(239, 85, 59); stroke-opacity: 1; stroke-width: 2px; opacity: 1;\"/><path class=\"js-line\" d=\"M362.7,247.56L364.19,249.39L364.94,247.81L365.68,248.85L366.43,255.91L367.92,251.35L368.67,251.64L369.41,252.89L370.16,246.47L370.91,231.73L371.65,232.77L373.15,266.37L373.89,265.61L375.38,259.1L376.13,260.08L376.88,261.27L377.62,260.69L379.12,262.17L379.86,266.03L380.61,266.68L381.35,274.61L382.85,300.22L383.59,299.38L384.34,298.35L385.09,293.26L386.58,289.35L387.32,291.42L388.07,288.02L388.82,276.82L389.56,274.3L390.31,276.14L391.8,296.03L392.55,300.67L393.3,300.37L394.04,301.28L396.28,303.27L397.03,302.53L400.01,302.9L400.76,302.93L405.98,301.81L406.73,301.83L411.21,302.12L411.95,302.1L417.92,301.83L418.67,300.15L419.42,300.1L420.16,301.21L421.65,302.69L422.4,303.1L429.12,303.23L429.86,303.3L432.1,302.9L432.85,303.16L434.34,302.41L435.09,300.86L437.33,295.08L438.07,292.78L438.82,292.89L439.57,294.08L441.06,296.52L441.8,297.33L444.79,301.46L445.54,301.18L446.28,300.41L447.03,298.04L448.52,295L449.27,295.12L450.76,296.32L451.51,297.27L452.25,297.63L453,294.75L454.49,286.69L455.24,288.06L455.98,288.03L456.73,291.06L458.22,293.03L458.97,291.89L461.21,282.48L461.95,289.08L463.45,289.95L464.19,284.68L465.69,275.84L466.43,275.1L467.92,271.76L468.67,259.61L469.42,255.24L470.16,244.25L471.66,227.58L472.4,226.91L473.15,233.33L473.89,224.98L475.39,203.35L476.13,205.36L476.88,206.39L477.63,216.12L479.12,206.69L479.86,205.17L480.61,207.3L481.36,197.93L482.1,194.62L482.85,197.07L483.6,201.66L484.34,199.56L485.09,196.54L485.84,196.78L486.58,197.68L487.33,202.37L488.07,202L488.82,203.07L491.06,189.35L491.81,187.4L493.3,170.06L494.04,158.42L497.03,138.37L497.78,138.62L498.52,134.99L499.27,138.23L500.76,134.83L501.51,129.47L503,118.38\" style=\"vector-effect: non-scaling-stroke; fill: none; stroke: rgb(239, 85, 59); stroke-opacity: 1; stroke-width: 2px; opacity: 1;\"/></g><g class=\"points\"/><g class=\"text\"/></g><g class=\"trace scatter tracea2a007\" style=\"stroke-miterlimit: 2; opacity: 1;\"><g class=\"fills\"/><g class=\"errorbars\"/><g class=\"lines\"><path class=\"js-line\" d=\"M0,25.79L2.99,19.77L3.73,20.63L4.48,20.42L5.22,21.87L8.21,36.99L8.96,38.82L10.45,48.71L11.19,46.53L11.94,46.53L12.69,45.46L15.67,42.65L16.42,43.9L17.91,47.9L18.66,48.75L20.15,51.44L20.9,50.83L22.39,48.38L23.14,45.35L23.88,47.89L24.63,56.66L25.37,55.63L26.12,56.64L27.61,57.2L28.36,56.94L29.11,57.18L29.85,62.38L32.09,69.11L32.84,68.29L33.58,68.37L34.33,70.49L35.82,77.87L36.57,81.12L39.55,101.78L40.3,99.33L41.05,99.02L41.79,101.4L43.28,102.89L44.03,102.62L45.52,99.47L46.27,96.44L47.02,94.27L47.76,95.58L50,97.31L50.75,100.06L53.73,123.47L54.48,130.9L55.97,142.95L56.72,141.95L58.21,135.88L58.96,136.44L59.7,136.59L60.45,138.93L61.94,138.52L62.69,139.1L64.93,143.71L65.67,152.85L67.17,159.82L67.91,162.47L69.41,168.86L70.15,169.02L70.9,172.26L71.64,170.24L73.14,170.49L73.88,166.51L74.63,159.12L75.38,160.43L77.61,190.35L78.36,192.63L81.35,230.23L82.09,229.37L82.84,231.31L83.58,240.51L85.08,259.53L85.82,258.08L87.32,266L88.06,263.56L89.55,261.04L90.3,261.16\" style=\"vector-effect: non-scaling-stroke; fill: none; stroke: rgb(0, 204, 150); stroke-opacity: 1; stroke-width: 2px; opacity: 1;\"/><path class=\"js-line\" d=\"M100.75,300.63L101.5,300.35L102.24,301.23L102.99,302.14L103.73,295.92L104.48,291.51L105.23,297.61L106.72,302.83L107.47,298.82L108.21,298.36L108.96,303.36L111.2,303.63L111.94,303.58L140.3,303.25L141.05,303.12L147.02,302.91L147.77,303.25L150,303.37L150.75,302.68L152.24,301.14L152.99,301.39L155.23,302.97L155.97,303.44L161.2,303L161.95,302.11L164.18,300.33L164.93,300.78L167.17,302.74L167.92,302.95L169.41,302.98L170.15,302.26L172.39,299.55L173.14,299.2L174.63,299.04L175.38,301.13L176.87,302.8L177.62,303.14L180.6,301.42L181.35,301.88L182.84,302.17L183.59,300.33L185.08,299.8L185.83,297.76L188.07,296.7L188.81,295.34L190.3,287.69L191.05,290.66L192.54,286.24L193.29,289.87L194.04,288.62L194.78,292.18L195.53,296.59L196.27,290.12L197.77,275.49L198.51,281L199.26,287.78L200.01,287.44L202.99,260.83L203.74,260.31L205.23,264.18L205.98,255.08L207.47,241.86L208.22,244.54L208.96,243.71L209.71,238.57L211.95,231.23L212.69,223.87L213.44,220.75L214.19,223L214.93,222.74L215.68,225.81L216.42,227.53L217.17,236.03L217.92,237.04L218.66,226.82L219.41,227.77L220.16,225.01L221.65,214.86L222.39,212.3L223.89,198.86L224.63,198.68L226.13,183.51L226.87,172.38L229.11,159.12L229.86,144.8L232.1,120.08L232.84,118.18L233.59,119.62L234.34,123.49L235.83,124.93L236.57,121.81L238.07,109.32L238.81,110.63L240.31,107L241.05,107.34L241.8,110.39L242.54,106.76L243.29,101.62L244.04,104.72L247.77,63.53L248.51,53.63L250.75,35.84L251.5,36.67L252.25,35.82L252.99,36.33L255.23,46.48L255.98,60.56L256.72,68.7L257.47,65.12L258.22,64.09L258.96,64.85L260.46,60.7L261.2,61.51L262.69,60.09L263.44,60.25L265.68,50.65L266.43,50.88L267.92,73L268.66,68.93L270.16,64.83L270.9,65.73L271.65,65.01L272.4,65.92L273.89,67.61L274.64,66.64L276.13,61.73L276.87,61.9L279.11,51.89L279.86,53.48L280.61,58.04L281.35,53.79L282.84,48.25L283.59,46.06L284.34,43.68L285.08,45.1L285.83,45.68L286.58,43.61L288.81,37.13L289.56,45.24L291.05,60.41L291.8,56.84L292.55,56.19L293.29,54.25L294.04,55.36L294.78,61.73L296.28,68.54L297.02,65.99L298.52,64.48L299.26,66.25L301.5,79.89L302.25,80.55L302.99,82.97L303.74,81.91L305.23,79.46L305.98,77.2L306.73,75.97L307.47,76.27L308.96,74.45L309.71,73.06L310.46,73.5L311.2,77.22L312.7,76.7L313.44,84.64L315.68,99.72L316.43,104.57L318.67,109.61L319.41,115.69L320.16,116.74L320.91,116.12L323.14,113.18L323.89,111.16L325.38,103.9L326.13,103.28L328.37,111.8L329.11,111.67L329.86,111.36L330.61,112.06L332.1,118.63L332.85,126.27L334.34,133.44L335.08,134.33L336.58,135.4L337.32,136.68L338.82,141.3L339.56,141.99\" style=\"vector-effect: non-scaling-stroke; fill: none; stroke: rgb(0, 204, 150); stroke-opacity: 1; stroke-width: 2px; opacity: 1;\"/><path class=\"js-line\" d=\"M362.7,249.68L364.19,251.45L364.94,249.35L365.68,252.24L366.43,258.29L367.92,252.84L368.67,253.25L369.41,256.03L370.16,252.93L370.91,237.72L371.65,238.09L373.15,269.28L373.89,268.37L375.38,260.22L376.13,260.97L378.37,264.78L379.12,265.89L380.61,271.33L381.35,283.85L382.85,301.95L383.59,301.15L385.09,297.48L385.83,292.63L386.58,290.58L387.32,295.19L388.07,294.57L388.82,281.38L389.56,277.09L390.31,287.05L391.8,300.41L392.55,302.77L394.04,302.78L394.79,303.52L398.52,303.37L399.27,303.64L402.25,302.98L403,303L408.22,302.43L408.97,302.56L411.21,302.63L411.95,302.25L417.92,302.91L418.67,301.94L420.16,302.48L420.91,302.69L426.88,303.26L427.62,303.23L432.85,303.23L433.59,303.19L435.09,302.69L435.83,301.56L438.82,293.82L439.57,295.34L441.06,297.43L441.8,298.38L444.79,302.66L445.54,302.52L447.03,300.76L447.77,298.13L449.27,295.78L450.01,296.29L452.25,299.67L453,297.62L454.49,290.28L455.24,291.03L455.98,291.39L456.73,294.03L458.22,295.84L458.97,294.55L459.72,292.23L460.46,285.28L461.95,292.12L462.7,290.93L463.45,292.53L464.19,288.11L465.69,277.43L466.43,276.95L467.92,275.24L468.67,266.92L471.66,228.78L472.4,229.72L473.15,235.72L473.89,232.04L476.13,208.14L476.88,215.82L477.63,222.86L478.37,218.52L479.12,208.77L479.86,209.89L480.61,211.32L481.36,205.08L482.1,196.2L482.85,203.22L483.6,206.58L484.34,205.65L485.84,199.58L486.58,201.47L487.33,207.06L488.07,205.24L488.82,209.45L489.57,203.72L491.06,191.09L491.81,190.23L493.3,175.5L494.04,165.74L497.03,145.16L497.78,143.73L498.52,140.24L499.27,140.46L500.01,141.4L500.76,137.82L503,121.33\" style=\"vector-effect: non-scaling-stroke; fill: none; stroke: rgb(0, 204, 150); stroke-opacity: 1; stroke-width: 2px; opacity: 1;\"/></g><g class=\"points\"/><g class=\"text\"/></g></g></g><g class=\"overplot\"/><path class=\"xlines-above crisp\" d=\"M0,0\" style=\"fill: none;\"/><path class=\"ylines-above crisp\" d=\"M0,0\" style=\"fill: none;\"/><g class=\"overlines-above\"/><g class=\"xaxislayer-above\"><g class=\"xtick\"><text text-anchor=\"middle\" x=\"0\" y=\"433\" transform=\"translate(200.15,0)\" style=\"font-family: 'Open Sans', verdana, arial, sans-serif; font-size: 12px; fill: rgb(42, 63, 95); fill-opacity: 1; white-space: pre; opacity: 1;\">Jan 2020</text></g><g class=\"xtick\"><text text-anchor=\"middle\" x=\"0\" y=\"433\" style=\"font-family: 'Open Sans', verdana, arial, sans-serif; font-size: 12px; fill: rgb(42, 63, 95); fill-opacity: 1; white-space: pre; opacity: 1;\" transform=\"translate(335.98,0)\">Jul 2020</text></g><g class=\"xtick\"><text text-anchor=\"middle\" x=\"0\" y=\"433\" style=\"font-family: 'Open Sans', verdana, arial, sans-serif; font-size: 12px; fill: rgb(42, 63, 95); fill-opacity: 1; white-space: pre; opacity: 1;\" transform=\"translate(473.3,0)\">Jan 2021</text></g></g><g class=\"yaxislayer-above\"><g class=\"ytick\"><text text-anchor=\"end\" x=\"79\" y=\"4.199999999999999\" transform=\"translate(0,403.71)\" style=\"font-family: 'Open Sans', verdana, arial, sans-serif; font-size: 12px; fill: rgb(42, 63, 95); fill-opacity: 1; white-space: pre; opacity: 1;\">0</text></g><g class=\"ytick\"><text text-anchor=\"end\" x=\"79\" y=\"4.199999999999999\" style=\"font-family: 'Open Sans', verdana, arial, sans-serif; font-size: 12px; fill: rgb(42, 63, 95); fill-opacity: 1; white-space: pre; opacity: 1;\" transform=\"translate(0,344.22)\">5</text></g><g class=\"ytick\"><text text-anchor=\"end\" x=\"79\" y=\"4.199999999999999\" style=\"font-family: 'Open Sans', verdana, arial, sans-serif; font-size: 12px; fill: rgb(42, 63, 95); fill-opacity: 1; white-space: pre; opacity: 1;\" transform=\"translate(0,284.72)\">10</text></g><g class=\"ytick\"><text text-anchor=\"end\" x=\"79\" y=\"4.199999999999999\" style=\"font-family: 'Open Sans', verdana, arial, sans-serif; font-size: 12px; fill: rgb(42, 63, 95); fill-opacity: 1; white-space: pre; opacity: 1;\" transform=\"translate(0,225.23000000000002)\">15</text></g><g class=\"ytick\"><text text-anchor=\"end\" x=\"79\" y=\"4.199999999999999\" style=\"font-family: 'Open Sans', verdana, arial, sans-serif; font-size: 12px; fill: rgb(42, 63, 95); fill-opacity: 1; white-space: pre; opacity: 1;\" transform=\"translate(0,165.73000000000002)\">20</text></g><g class=\"ytick\"><text text-anchor=\"end\" x=\"79\" y=\"4.199999999999999\" style=\"font-family: 'Open Sans', verdana, arial, sans-serif; font-size: 12px; fill: rgb(42, 63, 95); fill-opacity: 1; white-space: pre; opacity: 1;\" transform=\"translate(0,106.23)\">25</text></g></g><g class=\"overaxes-above\"/></g></g><g class=\"polarlayer\"/><g class=\"smithlayer\"/><g class=\"ternarylayer\"/><g class=\"geolayer\"/><g class=\"funnelarealayer\"/><g class=\"pielayer\"/><g class=\"iciclelayer\"/><g class=\"treemaplayer\"/><g class=\"sunburstlayer\"/><g class=\"glimages\"/><defs id=\"topdefs-a9cfcf\"><g class=\"clips\"/><clipPath id=\"legenda9cfcf\"><rect width=\"95\" height=\"67\" x=\"0\" y=\"0\"/></clipPath></defs><g class=\"layer-above\"><g class=\"imagelayer\"/><g class=\"shapelayer\"/></g><g class=\"infolayer\"><g class=\"legend\" pointer-events=\"all\" transform=\"translate(593.0600000000001,100)\"><rect class=\"bg\" shape-rendering=\"crispEdges\" width=\"95\" height=\"67\" x=\"0\" y=\"0\" style=\"stroke: rgb(68, 68, 68); stroke-opacity: 1; fill: rgb(255, 255, 255); fill-opacity: 1; stroke-width: 0px;\"/><g class=\"scrollbox\" transform=\"\" clip-path=\"url(#legenda9cfcf)\"><g class=\"groups\"><g class=\"traces\" transform=\"translate(0,14.5)\" style=\"opacity: 1;\"><text class=\"legendtext\" text-anchor=\"start\" x=\"40\" y=\"4.680000000000001\" style=\"font-family: 'Open Sans', verdana, arial, sans-serif; font-size: 12px; fill: rgb(42, 63, 95); fill-opacity: 1; white-space: pre;\">Min</text><g class=\"layers\" style=\"opacity: 1;\"><g class=\"legendfill\"/><g class=\"legendlines\"><path class=\"js-line\" d=\"M5,0h30\" style=\"fill: none; stroke: rgb(99, 110, 250); stroke-opacity: 1; stroke-width: 2px;\"/></g><g class=\"legendsymbols\"><g class=\"legendpoints\"/></g></g><rect class=\"legendtoggle\" x=\"0\" y=\"-9.5\" width=\"89.28125\" height=\"19\" style=\"fill: rgb(0, 0, 0); fill-opacity: 0;\"/></g><g class=\"traces\" transform=\"translate(0,33.5)\" style=\"opacity: 1;\"><text class=\"legendtext\" text-anchor=\"start\" x=\"40\" y=\"4.680000000000001\" style=\"font-family: 'Open Sans', verdana, arial, sans-serif; font-size: 12px; fill: rgb(42, 63, 95); fill-opacity: 1; white-space: pre;\">Max</text><g class=\"layers\" style=\"opacity: 1;\"><g class=\"legendfill\"/><g class=\"legendlines\"><path class=\"js-line\" d=\"M5,0h30\" style=\"fill: none; stroke: rgb(239, 85, 59); stroke-opacity: 1; stroke-width: 2px;\"/></g><g class=\"legendsymbols\"><g class=\"legendpoints\"/></g></g><rect class=\"legendtoggle\" x=\"0\" y=\"-9.5\" width=\"89.28125\" height=\"19\" style=\"fill: rgb(0, 0, 0); fill-opacity: 0;\"/></g><g class=\"traces\" transform=\"translate(0,52.5)\" style=\"opacity: 1;\"><text class=\"legendtext\" text-anchor=\"start\" x=\"40\" y=\"4.680000000000001\" style=\"font-family: 'Open Sans', verdana, arial, sans-serif; font-size: 12px; fill: rgb(42, 63, 95); fill-opacity: 1; white-space: pre;\">Average</text><g class=\"layers\" style=\"opacity: 1;\"><g class=\"legendfill\"/><g class=\"legendlines\"><path class=\"js-line\" d=\"M5,0h30\" style=\"fill: none; stroke: rgb(0, 204, 150); stroke-opacity: 1; stroke-width: 2px;\"/></g><g class=\"legendsymbols\"><g class=\"legendpoints\"/></g></g><rect class=\"legendtoggle\" x=\"0\" y=\"-9.5\" width=\"89.28125\" height=\"19\" style=\"fill: rgb(0, 0, 0); fill-opacity: 0;\"/></g></g></g><rect class=\"scrollbar\" rx=\"20\" ry=\"3\" width=\"0\" height=\"0\" x=\"0\" y=\"0\" style=\"fill: rgb(128, 139, 164); fill-opacity: 1;\"/></g><g class=\"g-gtitle\"/><g class=\"g-xtitle\"/><g class=\"g-ytitle\"><text class=\"ytitle\" transform=\"rotate(-90,38.91875,260)\" x=\"38.91875\" y=\"260\" text-anchor=\"middle\" style=\"font-family: 'Open Sans', verdana, arial, sans-serif; font-size: 14px; fill: rgb(42, 63, 95); opacity: 1; font-weight: normal; white-space: pre;\">Temperature (degrees C)</text></g></g></svg>"
     },
     "metadata": {},
     "output_type": "display_data"
    }
   ],
   "source": [
    "import plotly.graph_objects as go\n",
    "\n",
    "fig = go.Figure(data=[\n",
    "    go.Scatter(name='Min', x=daily_aggregations.index, y=daily_aggregations[\"min\"]),\n",
    "    go.Scatter(name='Max', x=daily_aggregations.index, y=daily_aggregations[\"max\"]),\n",
    "    go.Scatter(name='Average', x=daily_aggregations.index, y=daily_aggregations[\"mean\"])\n",
    "])\n",
    "# Change the bar mode\n",
    "fig.update_layout(barmode='group')\n",
    "fig.update_yaxes(title_text = \"Temperature (degrees C)\")\n",
    "fig.show()"
   ]
  },
  {
   "cell_type": "markdown",
   "metadata": {},
   "source": [
    "In case the interactive graph is not showing:"
   ]
  },
  {
   "cell_type": "code",
   "execution_count": 7,
   "metadata": {},
   "outputs": [
    {
     "data": {
      "image/svg+xml": "<svg class=\"main-svg\" xmlns=\"http://www.w3.org/2000/svg\" xmlns:xlink=\"http://www.w3.org/1999/xlink\" width=\"700\" height=\"500\" style=\"\" viewBox=\"0 0 700 500\"><rect x=\"0\" y=\"0\" width=\"700\" height=\"500\" style=\"fill: rgb(255, 255, 255); fill-opacity: 1;\"/><defs id=\"defs-b616fd\"><g class=\"clips\"><clipPath id=\"clipb616fdxyplot\" class=\"plotclip\"><rect width=\"503\" height=\"320\"/></clipPath><clipPath class=\"axesclip\" id=\"clipb616fdx\"><rect x=\"80\" y=\"0\" width=\"503\" height=\"500\"/></clipPath><clipPath class=\"axesclip\" id=\"clipb616fdy\"><rect x=\"0\" y=\"100\" width=\"700\" height=\"320\"/></clipPath><clipPath class=\"axesclip\" id=\"clipb616fdxy\"><rect x=\"80\" y=\"100\" width=\"503\" height=\"320\"/></clipPath></g><g class=\"gradients\"/><g class=\"patterns\"/></defs><g class=\"bglayer\"><rect class=\"bg\" x=\"80\" y=\"100\" width=\"503\" height=\"320\" style=\"fill: rgb(229, 236, 246); fill-opacity: 1; stroke-width: 0;\"/></g><g class=\"layer-below\"><g class=\"imagelayer\"/><g class=\"shapelayer\"/></g><g class=\"cartesianlayer\"><g class=\"subplot xy\"><g class=\"layer-subplot\"><g class=\"shapelayer\"/><g class=\"imagelayer\"/></g><g class=\"minor-gridlayer\"><g class=\"x\"/><g class=\"y\"/></g><g class=\"gridlayer\"><g class=\"x\"><path class=\"xgrid crisp\" transform=\"translate(200.15,0)\" d=\"M0,100v320\" style=\"stroke: rgb(255, 255, 255); stroke-opacity: 1; stroke-width: 1px;\"/><path class=\"xgrid crisp\" transform=\"translate(335.98,0)\" d=\"M0,100v320\" style=\"stroke: rgb(255, 255, 255); stroke-opacity: 1; stroke-width: 1px;\"/><path class=\"xgrid crisp\" transform=\"translate(473.3,0)\" d=\"M0,100v320\" style=\"stroke: rgb(255, 255, 255); stroke-opacity: 1; stroke-width: 1px;\"/></g><g class=\"y\"><path class=\"ygrid crisp\" transform=\"translate(0,344.22)\" d=\"M80,0h503\" style=\"stroke: rgb(255, 255, 255); stroke-opacity: 1; stroke-width: 1px;\"/><path class=\"ygrid crisp\" transform=\"translate(0,284.72)\" d=\"M80,0h503\" style=\"stroke: rgb(255, 255, 255); stroke-opacity: 1; stroke-width: 1px;\"/><path class=\"ygrid crisp\" transform=\"translate(0,225.23000000000002)\" d=\"M80,0h503\" style=\"stroke: rgb(255, 255, 255); stroke-opacity: 1; stroke-width: 1px;\"/><path class=\"ygrid crisp\" transform=\"translate(0,165.73000000000002)\" d=\"M80,0h503\" style=\"stroke: rgb(255, 255, 255); stroke-opacity: 1; stroke-width: 1px;\"/><path class=\"ygrid crisp\" transform=\"translate(0,106.23)\" d=\"M80,0h503\" style=\"stroke: rgb(255, 255, 255); stroke-opacity: 1; stroke-width: 1px;\"/></g></g><g class=\"zerolinelayer\"><path class=\"yzl zl crisp\" transform=\"translate(0,403.71)\" d=\"M80,0h503\" style=\"stroke: rgb(255, 255, 255); stroke-opacity: 1; stroke-width: 2px;\"/></g><path class=\"xlines-below\"/><path class=\"ylines-below\"/><g class=\"overlines-below\"/><g class=\"xaxislayer-below\"/><g class=\"yaxislayer-below\"/><g class=\"overaxes-below\"/><g class=\"plot\" transform=\"translate(80,100)\" clip-path=\"url(#clipb616fdxyplot)\"><g class=\"scatterlayer mlayer\"><g class=\"trace scatter trace13a74f\" style=\"stroke-miterlimit: 2; opacity: 1;\"><g class=\"fills\"/><g class=\"errorbars\"/><g class=\"lines\"><path class=\"js-line\" d=\"M0,26.76L1.49,24.44L2.24,22.49L2.99,21.98L3.73,22.84L4.48,22.87L5.22,27.01L5.97,29.04L6.72,35.04L7.46,40.29L8.21,39.49L9.7,50.95L10.45,52.55L11.94,48.97L12.69,48.2L13.43,46.81L14.18,47.15L15.67,44.84L16.42,47.56L19.4,52.75L20.15,53.63L21.64,51.8L22.39,51.06L23.14,47.66L23.88,54.92L24.63,59.12L25.37,58.17L26.87,59.21L27.61,59.17L28.36,58.47L29.11,60.48L30.6,68.18L31.34,69.92L32.09,71.44L32.84,70.73L33.58,69.95L34.33,73.07L36.57,85.35L37.31,95L38.06,104.92L38.81,101.95L39.55,102.88L40.3,101.58L41.05,100.28L41.79,103.68L43.28,103.26L44.03,103.17L45.52,100.66L46.27,98.95L47.02,95.88L47.76,97.2L50,98.07L50.75,105.13L55.97,146.07L56.72,143.62L58.21,136.93L58.96,137.42L59.7,138.26L60.45,141.53L61.94,139.01L62.69,142.74L63.43,143.36L64.18,145.17L66.42,160.72L67.17,162.21L67.91,164.33L68.66,168.85L70.9,174.61L71.64,172L72.39,171.46L73.14,172.03L73.88,170.75L74.63,163.89L75.38,163.67L76.12,178.96L77.61,191.22L78.36,197.93L80.6,227.33L81.35,232.02L82.09,232.23L82.84,233.87L85.08,263.02L85.82,260.98L87.32,269.13L88.06,265.84L90.3,263.94\" style=\"vector-effect: non-scaling-stroke; fill: none; stroke: rgb(99, 110, 250); stroke-opacity: 1; stroke-width: 2px; opacity: 1;\"/><path class=\"js-line\" d=\"M100.75,301.43L101.5,301.63L102.24,303.25L103.73,301.63L104.48,295.73L105.97,303.53L106.72,303.36L107.47,302.49L108.21,299.76L108.96,304L109.7,303.72L130.6,303.48L131.35,303.48L151.5,303.46L152.24,302.81L153.74,303.48L154.48,303.5L162.69,303.2L163.44,302.16L164.18,301.51L164.93,302.04L166.42,303.5L167.17,303.48L170.9,303.25L171.65,302.31L173.14,301.05L173.89,300.68L174.63,301.13L175.38,303.01L182.84,302.97L183.59,302.11L185.08,301.24L185.83,300L187.32,300.13L188.07,298.98L188.81,297.19L189.56,292.93L190.3,290.35L191.05,293.67L192.54,288.62L193.29,294.19L194.04,290.97L194.78,295.4L195.53,299L196.27,293.78L197.77,280.53L198.51,285.41L199.26,290.14L200.01,289.76L202.99,264.08L203.74,261.9L204.48,267.52L205.23,266.92L207.47,244.43L208.22,246.24L208.96,246.58L209.71,241.02L212.69,226.54L213.44,221.3L214.19,225.48L214.93,224.6L216.42,230.54L217.17,239.37L217.92,240.33L218.66,230.86L219.41,230.19L220.16,227.1L221.65,216.59L222.39,215.74L223.89,201.21L224.63,202.11L226.13,190.99L226.87,177.12L229.11,161.31L229.86,153.88L232.1,123.91L232.84,122.14L235.08,128.94L235.83,126.46L236.57,123.79L237.32,116.05L238.07,112.2L238.81,113.84L240.31,108.92L241.05,109.82L241.8,114.04L242.54,109.1L243.29,103.78L244.04,107.65L250.75,40.55L251.5,44.63L252.25,44.62L252.99,43.7L255.23,51.05L255.98,70.22L256.72,74.67L257.47,71.02L258.22,71.49L258.96,69.58L259.71,63.71L260.46,64.41L261.2,65.05L261.95,63.35L262.69,63.07L263.44,63.66L265.68,53.65L266.43,57.33L267.92,77.79L268.66,73.2L270.16,67.19L270.9,67.78L271.65,66.86L272.4,80.11L273.14,69.01L273.89,70.23L274.64,69.15L275.38,66.07L276.13,64.33L276.87,65.1L279.11,54.09L279.86,59.55L280.61,61.27L281.35,56.87L282.84,51.58L283.59,48.95L284.34,46.38L285.08,47.9L285.83,48.85L286.58,46.1L288.81,39L289.56,54.68L290.31,65.17L291.05,63.62L292.55,58.33L293.29,55.55L295.53,71.52L296.28,70.82L297.77,66.9L298.52,65.92L299.26,68.37L300.01,74.96L301.5,81.62L302.25,83.7L302.99,84.47L303.74,83L306.73,76.72L307.47,77.47L308.96,75.23L309.71,74.04L311.2,79.12L311.95,77.7L312.7,79.28L313.44,89.72L314.19,90.93L314.93,95.16L316.43,106.41L317.17,107.67L317.92,108.74L318.67,114.8L320.16,117.77L320.91,117.19L323.89,112.42L324.64,109.82L326.13,104.82L326.88,109.11L328.37,112.98L329.11,112.76L329.86,111.87L330.61,112.75L332.1,121.02L332.85,131.2L335.08,134.56L335.83,135.29L336.58,136.14L337.32,138.41L338.82,142.96L339.56,142.07\" style=\"vector-effect: non-scaling-stroke; fill: none; stroke: rgb(99, 110, 250); stroke-opacity: 1; stroke-width: 2px; opacity: 1;\"/><path class=\"js-line\" d=\"M362.7,252.25L363.44,253.89L364.19,253.02L364.94,251.24L365.68,255.98L366.43,261.48L367.18,259.34L367.92,255.17L368.67,255.32L369.41,259.3L370.16,258.54L370.91,246.25L371.65,247.54L373.15,271.26L373.89,271.14L375.38,261.06L376.13,261.91L379.12,268.53L379.86,269.68L380.61,275.34L381.35,291.24L382.85,303.45L383.59,303.33L385.09,300.57L385.83,295.71L386.58,292.78L387.32,297.87L388.07,298.11L388.82,288.72L389.56,279.76L390.31,296L391.06,297.01L391.8,303.18L393.3,303.67L394.04,303.48L396.28,303.65L397.03,303.47L400.76,303.52L401.5,303.25L405.24,303.14L405.98,302.6L408.22,302.82L408.97,302.95L417.18,302.93L417.92,303.12L423.89,303.27L424.64,303.31L435.83,303.37L436.58,302.03L438.82,295.06L439.57,296.99L441.06,299.28L441.8,300.59L443.3,303.19L444.04,303.32L447.03,302.58L447.77,302.07L449.27,297.33L450.01,298.09L450.76,298.87L451.51,301.58L453,299.6L453.74,297.63L454.49,294.38L455.24,295.42L455.98,295.15L456.73,297.8L457.48,296.73L458.22,297.32L459.72,294.57L460.46,287.78L461.95,294.87L462.7,292.23L463.45,293.8L464.19,290.14L465.69,278.43L466.43,279.12L467.92,278.19L468.67,272.17L471.66,232.23L472.4,233.95L473.89,237.01L474.64,226.05L476.13,210.79L476.88,222.04L477.63,227.62L478.37,222.44L479.12,210.75L479.86,213.55L480.61,213.11L481.36,208.17L482.1,198.26L482.85,205.51L484.34,209.03L485.09,205.41L485.84,203L486.58,205.22L487.33,211.85L488.07,208.93L488.82,213.75L489.57,205.54L491.06,193.13L491.81,192.51L493.3,181.14L494.04,170.63L495.54,158.72L496.28,152.17L497.78,149.12L498.52,143.02L499.27,143.07L500.01,144.14L501.51,135.4L502.25,129.2L503,124.58\" style=\"vector-effect: non-scaling-stroke; fill: none; stroke: rgb(99, 110, 250); stroke-opacity: 1; stroke-width: 2px; opacity: 1;\"/></g><g class=\"points\"/><g class=\"text\"/></g><g class=\"trace scatter traced57d5b\" style=\"stroke-miterlimit: 2; opacity: 1;\"><g class=\"fills\"/><g class=\"errorbars\"/><g class=\"lines\"><path class=\"js-line\" d=\"M0,24.68L0.75,20.51L1.49,20.89L2.99,18.44L3.73,18.76L4.48,18.42L5.22,16L5.97,18.12L6.72,24.94L8.21,32.1L8.96,34.87L10.45,45.29L11.19,42.26L11.94,43.84L12.69,42.58L15.67,40.13L16.42,40.65L18.66,45.9L19.4,47.4L20.15,47.68L20.9,49.09L23.14,44.03L23.88,42.39L24.63,54.16L25.37,53.47L29.11,55.23L29.85,57.12L31.34,63.98L32.09,64.74L32.84,66.84L33.58,66.56L34.33,68.38L35.08,72.33L39.55,98.96L40.3,96.83L41.05,97.36L41.79,99.49L43.28,102.48L44.03,101.03L45.52,96.23L46.27,90.64L47.02,90.58L47.76,93.35L49.26,93.43L50,96.02L51.49,100.23L52.24,105.23L54.48,122.44L55.23,131.62L55.97,140.93L56.72,136.49L58.21,134.32L58.96,134.96L59.7,135.09L60.45,137.54L61.94,138.06L62.69,137.84L64.18,139.45L64.93,141L65.67,144.34L66.42,152.98L68.66,163.8L69.41,166.26L70.15,167.31L70.9,169.99L73.14,168.38L73.88,162.59L74.63,155.6L75.38,156.37L76.12,163.49L76.87,178.98L77.61,189.43L78.36,189.38L82.09,226.7L82.84,227.11L83.58,231.61L84.33,242.43L85.82,256.17L86.57,258.9L87.32,262.54L88.06,258.08L89.55,258.9L90.3,259.06\" style=\"vector-effect: non-scaling-stroke; fill: none; stroke: rgb(239, 85, 59); stroke-opacity: 1; stroke-width: 2px; opacity: 1;\"/><path class=\"js-line\" d=\"M100.75,299.86L102.24,299.43L102.99,301.52L104.48,286.69L105.23,294.52L106.72,301.23L107.47,294.99L108.21,296.02L108.96,299.85L110.45,303.57L111.2,303.43L120.15,303.13L120.9,303.19L126.87,303.29L127.62,303.36L131.35,303.4L132.09,303.34L141.05,302.89L141.8,302.8L149.26,303.4L150,302.5L151.5,300.3L152.24,300.2L153.74,300.4L154.48,301.28L156.72,303.39L157.47,303.37L159.71,303.42L160.45,302.75L162.69,300.51L163.44,299.72L164.93,299.86L165.68,300.65L167.92,302.19L168.66,302.29L169.41,302.14L170.15,300.71L173.14,297.97L173.89,297.46L174.63,297.49L175.38,299.2L176.87,302.17L177.62,302.99L179.86,300.12L180.6,299.12L182.09,301.29L182.84,300.81L184.33,296.88L185.08,295.63L185.83,294.18L186.57,294.4L188.07,294.51L188.81,291.3L190.3,285.81L191.05,287.77L191.8,284.04L192.54,284.36L193.29,287.14L194.04,286.72L194.78,288.33L195.53,293.61L197.77,272.64L198.51,274.38L199.26,285.23L200.01,283.09L202.24,258.09L202.99,257.26L205.23,259.34L205.98,251.16L207.47,239.79L208.22,242.76L208.96,240.01L209.71,233.86L211.2,232.05L211.95,226.11L212.69,220.18L213.44,220.26L214.19,219.17L214.93,219.97L216.42,224.09L217.17,230.23L217.92,230.4L218.66,225.11L219.41,225.24L220.16,220.67L225.38,186.81L226.13,173.74L226.87,161.25L227.62,161.9L228.36,159.78L229.11,154.23L231.35,117.71L232.1,115.82L232.84,112.48L233.59,112.77L235.83,122.35L236.57,116.37L237.32,106.26L238.07,106.35L238.81,107.19L239.56,106.19L240.31,104.43L241.05,104.77L241.8,108.02L242.54,99.45L243.29,99.61L244.04,95.76L244.78,91.18L245.53,81.13L246.28,78.64L247.02,70.31L250.01,36.15L250.75,32.81L252.99,29.13L253.74,31.69L255.23,38.77L255.98,49.35L257.47,59.19L258.22,58.37L260.46,56.82L261.2,54.79L262.69,57.38L263.44,55.07L264.93,49.8L265.68,43.18L266.43,42.48L267.17,55.82L267.92,67.94L268.66,65.71L270.9,60.91L271.65,62.65L272.4,62.53L273.14,64.56L274.64,64.05L275.38,61.12L276.87,59.12L277.62,54.62L279.86,49.64L280.61,53.93L283.59,43.41L284.34,41.55L285.83,42.36L286.58,41.44L288.81,35.45L289.56,37.7L291.05,56.6L291.8,54.72L294.04,52.33L294.78,54.74L296.28,65.16L297.02,62.83L299.26,63.48L300.01,65.27L301.5,77.68L302.25,77.96L303.74,80.5L304.49,79.91L306.73,75.49L307.47,75.31L308.22,75L308.96,73.88L310.46,71.79L311.2,74.76L312.7,75.49L313.44,75.92L314.93,87.85L315.68,93.75L317.17,104.49L317.92,106.29L318.67,108.12L319.41,112.64L320.16,115.32L320.91,114.75L323.14,112.26L323.89,106.39L325.38,102.63L326.13,102.7L326.88,103.56L327.62,107.03L329.11,110.08L329.86,110.54L331.35,112.28L332.1,115.11L334.34,131.74L335.08,133.75L337.32,135.73L338.07,138.31L339.56,141.57\" style=\"vector-effect: non-scaling-stroke; fill: none; stroke: rgb(239, 85, 59); stroke-opacity: 1; stroke-width: 2px; opacity: 1;\"/><path class=\"js-line\" d=\"M362.7,247.56L364.19,249.39L364.94,247.81L365.68,248.85L366.43,255.91L367.92,251.35L368.67,251.64L369.41,252.89L370.16,246.47L370.91,231.73L371.65,232.77L373.15,266.37L373.89,265.61L375.38,259.1L376.13,260.08L376.88,261.27L377.62,260.69L379.12,262.17L379.86,266.03L380.61,266.68L381.35,274.61L382.85,300.22L383.59,299.38L384.34,298.35L385.09,293.26L386.58,289.35L387.32,291.42L388.07,288.02L388.82,276.82L389.56,274.3L390.31,276.14L391.8,296.03L392.55,300.67L393.3,300.37L394.04,301.28L396.28,303.27L397.03,302.53L400.01,302.9L400.76,302.93L405.98,301.81L406.73,301.83L411.21,302.12L411.95,302.1L417.92,301.83L418.67,300.15L419.42,300.1L420.16,301.21L421.65,302.69L422.4,303.1L429.12,303.23L429.86,303.3L432.1,302.9L432.85,303.16L434.34,302.41L435.09,300.86L437.33,295.08L438.07,292.78L438.82,292.89L439.57,294.08L441.06,296.52L441.8,297.33L444.79,301.46L445.54,301.18L446.28,300.41L447.03,298.04L448.52,295L449.27,295.12L450.76,296.32L451.51,297.27L452.25,297.63L453,294.75L454.49,286.69L455.24,288.06L455.98,288.03L456.73,291.06L458.22,293.03L458.97,291.89L461.21,282.48L461.95,289.08L463.45,289.95L464.19,284.68L465.69,275.84L466.43,275.1L467.92,271.76L468.67,259.61L469.42,255.24L470.16,244.25L471.66,227.58L472.4,226.91L473.15,233.33L473.89,224.98L475.39,203.35L476.13,205.36L476.88,206.39L477.63,216.12L479.12,206.69L479.86,205.17L480.61,207.3L481.36,197.93L482.1,194.62L482.85,197.07L483.6,201.66L484.34,199.56L485.09,196.54L485.84,196.78L486.58,197.68L487.33,202.37L488.07,202L488.82,203.07L491.06,189.35L491.81,187.4L493.3,170.06L494.04,158.42L497.03,138.37L497.78,138.62L498.52,134.99L499.27,138.23L500.76,134.83L501.51,129.47L503,118.38\" style=\"vector-effect: non-scaling-stroke; fill: none; stroke: rgb(239, 85, 59); stroke-opacity: 1; stroke-width: 2px; opacity: 1;\"/></g><g class=\"points\"/><g class=\"text\"/></g><g class=\"trace scatter traced042aa\" style=\"stroke-miterlimit: 2; opacity: 1;\"><g class=\"fills\"/><g class=\"errorbars\"/><g class=\"lines\"><path class=\"js-line\" d=\"M0,25.79L2.99,19.77L3.73,20.63L4.48,20.42L5.22,21.87L8.21,36.99L8.96,38.82L10.45,48.71L11.19,46.53L11.94,46.53L12.69,45.46L15.67,42.65L16.42,43.9L17.91,47.9L18.66,48.75L20.15,51.44L20.9,50.83L22.39,48.38L23.14,45.35L23.88,47.89L24.63,56.66L25.37,55.63L26.12,56.64L27.61,57.2L28.36,56.94L29.11,57.18L29.85,62.38L32.09,69.11L32.84,68.29L33.58,68.37L34.33,70.49L35.82,77.87L36.57,81.12L39.55,101.78L40.3,99.33L41.05,99.02L41.79,101.4L43.28,102.89L44.03,102.62L45.52,99.47L46.27,96.44L47.02,94.27L47.76,95.58L50,97.31L50.75,100.06L53.73,123.47L54.48,130.9L55.97,142.95L56.72,141.95L58.21,135.88L58.96,136.44L59.7,136.59L60.45,138.93L61.94,138.52L62.69,139.1L64.93,143.71L65.67,152.85L67.17,159.82L67.91,162.47L69.41,168.86L70.15,169.02L70.9,172.26L71.64,170.24L73.14,170.49L73.88,166.51L74.63,159.12L75.38,160.43L77.61,190.35L78.36,192.63L81.35,230.23L82.09,229.37L82.84,231.31L83.58,240.51L85.08,259.53L85.82,258.08L87.32,266L88.06,263.56L89.55,261.04L90.3,261.16\" style=\"vector-effect: non-scaling-stroke; fill: none; stroke: rgb(0, 204, 150); stroke-opacity: 1; stroke-width: 2px; opacity: 1;\"/><path class=\"js-line\" d=\"M100.75,300.63L101.5,300.35L102.24,301.23L102.99,302.14L103.73,295.92L104.48,291.51L105.23,297.61L106.72,302.83L107.47,298.82L108.21,298.36L108.96,303.36L111.2,303.63L111.94,303.58L140.3,303.25L141.05,303.12L147.02,302.91L147.77,303.25L150,303.37L150.75,302.68L152.24,301.14L152.99,301.39L155.23,302.97L155.97,303.44L161.2,303L161.95,302.11L164.18,300.33L164.93,300.78L167.17,302.74L167.92,302.95L169.41,302.98L170.15,302.26L172.39,299.55L173.14,299.2L174.63,299.04L175.38,301.13L176.87,302.8L177.62,303.14L180.6,301.42L181.35,301.88L182.84,302.17L183.59,300.33L185.08,299.8L185.83,297.76L188.07,296.7L188.81,295.34L190.3,287.69L191.05,290.66L192.54,286.24L193.29,289.87L194.04,288.62L194.78,292.18L195.53,296.59L196.27,290.12L197.77,275.49L198.51,281L199.26,287.78L200.01,287.44L202.99,260.83L203.74,260.31L205.23,264.18L205.98,255.08L207.47,241.86L208.22,244.54L208.96,243.71L209.71,238.57L211.95,231.23L212.69,223.87L213.44,220.75L214.19,223L214.93,222.74L215.68,225.81L216.42,227.53L217.17,236.03L217.92,237.04L218.66,226.82L219.41,227.77L220.16,225.01L221.65,214.86L222.39,212.3L223.89,198.86L224.63,198.68L226.13,183.51L226.87,172.38L229.11,159.12L229.86,144.8L232.1,120.08L232.84,118.18L233.59,119.62L234.34,123.49L235.83,124.93L236.57,121.81L238.07,109.32L238.81,110.63L240.31,107L241.05,107.34L241.8,110.39L242.54,106.76L243.29,101.62L244.04,104.72L247.77,63.53L248.51,53.63L250.75,35.84L251.5,36.67L252.25,35.82L252.99,36.33L255.23,46.48L255.98,60.56L256.72,68.7L257.47,65.12L258.22,64.09L258.96,64.85L260.46,60.7L261.2,61.51L262.69,60.09L263.44,60.25L265.68,50.65L266.43,50.88L267.92,73L268.66,68.93L270.16,64.83L270.9,65.73L271.65,65.01L272.4,65.92L273.89,67.61L274.64,66.64L276.13,61.73L276.87,61.9L279.11,51.89L279.86,53.48L280.61,58.04L281.35,53.79L282.84,48.25L283.59,46.06L284.34,43.68L285.08,45.1L285.83,45.68L286.58,43.61L288.81,37.13L289.56,45.24L291.05,60.41L291.8,56.84L292.55,56.19L293.29,54.25L294.04,55.36L294.78,61.73L296.28,68.54L297.02,65.99L298.52,64.48L299.26,66.25L301.5,79.89L302.25,80.55L302.99,82.97L303.74,81.91L305.23,79.46L305.98,77.2L306.73,75.97L307.47,76.27L308.96,74.45L309.71,73.06L310.46,73.5L311.2,77.22L312.7,76.7L313.44,84.64L315.68,99.72L316.43,104.57L318.67,109.61L319.41,115.69L320.16,116.74L320.91,116.12L323.14,113.18L323.89,111.16L325.38,103.9L326.13,103.28L328.37,111.8L329.11,111.67L329.86,111.36L330.61,112.06L332.1,118.63L332.85,126.27L334.34,133.44L335.08,134.33L336.58,135.4L337.32,136.68L338.82,141.3L339.56,141.99\" style=\"vector-effect: non-scaling-stroke; fill: none; stroke: rgb(0, 204, 150); stroke-opacity: 1; stroke-width: 2px; opacity: 1;\"/><path class=\"js-line\" d=\"M362.7,249.68L364.19,251.45L364.94,249.35L365.68,252.24L366.43,258.29L367.92,252.84L368.67,253.25L369.41,256.03L370.16,252.93L370.91,237.72L371.65,238.09L373.15,269.28L373.89,268.37L375.38,260.22L376.13,260.97L378.37,264.78L379.12,265.89L380.61,271.33L381.35,283.85L382.85,301.95L383.59,301.15L385.09,297.48L385.83,292.63L386.58,290.58L387.32,295.19L388.07,294.57L388.82,281.38L389.56,277.09L390.31,287.05L391.8,300.41L392.55,302.77L394.04,302.78L394.79,303.52L398.52,303.37L399.27,303.64L402.25,302.98L403,303L408.22,302.43L408.97,302.56L411.21,302.63L411.95,302.25L417.92,302.91L418.67,301.94L420.16,302.48L420.91,302.69L426.88,303.26L427.62,303.23L432.85,303.23L433.59,303.19L435.09,302.69L435.83,301.56L438.82,293.82L439.57,295.34L441.06,297.43L441.8,298.38L444.79,302.66L445.54,302.52L447.03,300.76L447.77,298.13L449.27,295.78L450.01,296.29L452.25,299.67L453,297.62L454.49,290.28L455.24,291.03L455.98,291.39L456.73,294.03L458.22,295.84L458.97,294.55L459.72,292.23L460.46,285.28L461.95,292.12L462.7,290.93L463.45,292.53L464.19,288.11L465.69,277.43L466.43,276.95L467.92,275.24L468.67,266.92L471.66,228.78L472.4,229.72L473.15,235.72L473.89,232.04L476.13,208.14L476.88,215.82L477.63,222.86L478.37,218.52L479.12,208.77L479.86,209.89L480.61,211.32L481.36,205.08L482.1,196.2L482.85,203.22L483.6,206.58L484.34,205.65L485.84,199.58L486.58,201.47L487.33,207.06L488.07,205.24L488.82,209.45L489.57,203.72L491.06,191.09L491.81,190.23L493.3,175.5L494.04,165.74L497.03,145.16L497.78,143.73L498.52,140.24L499.27,140.46L500.01,141.4L500.76,137.82L503,121.33\" style=\"vector-effect: non-scaling-stroke; fill: none; stroke: rgb(0, 204, 150); stroke-opacity: 1; stroke-width: 2px; opacity: 1;\"/></g><g class=\"points\"/><g class=\"text\"/></g></g></g><g class=\"overplot\"/><path class=\"xlines-above crisp\" d=\"M0,0\" style=\"fill: none;\"/><path class=\"ylines-above crisp\" d=\"M0,0\" style=\"fill: none;\"/><g class=\"overlines-above\"/><g class=\"xaxislayer-above\"><g class=\"xtick\"><text text-anchor=\"middle\" x=\"0\" y=\"433\" transform=\"translate(200.15,0)\" style=\"font-family: 'Open Sans', verdana, arial, sans-serif; font-size: 12px; fill: rgb(42, 63, 95); fill-opacity: 1; white-space: pre; opacity: 1;\">Jan 2020</text></g><g class=\"xtick\"><text text-anchor=\"middle\" x=\"0\" y=\"433\" style=\"font-family: 'Open Sans', verdana, arial, sans-serif; font-size: 12px; fill: rgb(42, 63, 95); fill-opacity: 1; white-space: pre; opacity: 1;\" transform=\"translate(335.98,0)\">Jul 2020</text></g><g class=\"xtick\"><text text-anchor=\"middle\" x=\"0\" y=\"433\" style=\"font-family: 'Open Sans', verdana, arial, sans-serif; font-size: 12px; fill: rgb(42, 63, 95); fill-opacity: 1; white-space: pre; opacity: 1;\" transform=\"translate(473.3,0)\">Jan 2021</text></g></g><g class=\"yaxislayer-above\"><g class=\"ytick\"><text text-anchor=\"end\" x=\"79\" y=\"4.199999999999999\" transform=\"translate(0,403.71)\" style=\"font-family: 'Open Sans', verdana, arial, sans-serif; font-size: 12px; fill: rgb(42, 63, 95); fill-opacity: 1; white-space: pre; opacity: 1;\">0</text></g><g class=\"ytick\"><text text-anchor=\"end\" x=\"79\" y=\"4.199999999999999\" style=\"font-family: 'Open Sans', verdana, arial, sans-serif; font-size: 12px; fill: rgb(42, 63, 95); fill-opacity: 1; white-space: pre; opacity: 1;\" transform=\"translate(0,344.22)\">5</text></g><g class=\"ytick\"><text text-anchor=\"end\" x=\"79\" y=\"4.199999999999999\" style=\"font-family: 'Open Sans', verdana, arial, sans-serif; font-size: 12px; fill: rgb(42, 63, 95); fill-opacity: 1; white-space: pre; opacity: 1;\" transform=\"translate(0,284.72)\">10</text></g><g class=\"ytick\"><text text-anchor=\"end\" x=\"79\" y=\"4.199999999999999\" style=\"font-family: 'Open Sans', verdana, arial, sans-serif; font-size: 12px; fill: rgb(42, 63, 95); fill-opacity: 1; white-space: pre; opacity: 1;\" transform=\"translate(0,225.23000000000002)\">15</text></g><g class=\"ytick\"><text text-anchor=\"end\" x=\"79\" y=\"4.199999999999999\" style=\"font-family: 'Open Sans', verdana, arial, sans-serif; font-size: 12px; fill: rgb(42, 63, 95); fill-opacity: 1; white-space: pre; opacity: 1;\" transform=\"translate(0,165.73000000000002)\">20</text></g><g class=\"ytick\"><text text-anchor=\"end\" x=\"79\" y=\"4.199999999999999\" style=\"font-family: 'Open Sans', verdana, arial, sans-serif; font-size: 12px; fill: rgb(42, 63, 95); fill-opacity: 1; white-space: pre; opacity: 1;\" transform=\"translate(0,106.23)\">25</text></g></g><g class=\"overaxes-above\"/></g></g><g class=\"polarlayer\"/><g class=\"smithlayer\"/><g class=\"ternarylayer\"/><g class=\"geolayer\"/><g class=\"funnelarealayer\"/><g class=\"pielayer\"/><g class=\"iciclelayer\"/><g class=\"treemaplayer\"/><g class=\"sunburstlayer\"/><g class=\"glimages\"/><defs id=\"topdefs-b616fd\"><g class=\"clips\"/><clipPath id=\"legendb616fd\"><rect width=\"95\" height=\"67\" x=\"0\" y=\"0\"/></clipPath></defs><g class=\"layer-above\"><g class=\"imagelayer\"/><g class=\"shapelayer\"/></g><g class=\"infolayer\"><g class=\"legend\" pointer-events=\"all\" transform=\"translate(593.0600000000001,100)\"><rect class=\"bg\" shape-rendering=\"crispEdges\" width=\"95\" height=\"67\" x=\"0\" y=\"0\" style=\"stroke: rgb(68, 68, 68); stroke-opacity: 1; fill: rgb(255, 255, 255); fill-opacity: 1; stroke-width: 0px;\"/><g class=\"scrollbox\" transform=\"\" clip-path=\"url(#legendb616fd)\"><g class=\"groups\"><g class=\"traces\" transform=\"translate(0,14.5)\" style=\"opacity: 1;\"><text class=\"legendtext\" text-anchor=\"start\" x=\"40\" y=\"4.680000000000001\" style=\"font-family: 'Open Sans', verdana, arial, sans-serif; font-size: 12px; fill: rgb(42, 63, 95); fill-opacity: 1; white-space: pre;\">Min</text><g class=\"layers\" style=\"opacity: 1;\"><g class=\"legendfill\"/><g class=\"legendlines\"><path class=\"js-line\" d=\"M5,0h30\" style=\"fill: none; stroke: rgb(99, 110, 250); stroke-opacity: 1; stroke-width: 2px;\"/></g><g class=\"legendsymbols\"><g class=\"legendpoints\"/></g></g><rect class=\"legendtoggle\" x=\"0\" y=\"-9.5\" width=\"89.28125\" height=\"19\" style=\"fill: rgb(0, 0, 0); fill-opacity: 0;\"/></g><g class=\"traces\" transform=\"translate(0,33.5)\" style=\"opacity: 1;\"><text class=\"legendtext\" text-anchor=\"start\" x=\"40\" y=\"4.680000000000001\" style=\"font-family: 'Open Sans', verdana, arial, sans-serif; font-size: 12px; fill: rgb(42, 63, 95); fill-opacity: 1; white-space: pre;\">Max</text><g class=\"layers\" style=\"opacity: 1;\"><g class=\"legendfill\"/><g class=\"legendlines\"><path class=\"js-line\" d=\"M5,0h30\" style=\"fill: none; stroke: rgb(239, 85, 59); stroke-opacity: 1; stroke-width: 2px;\"/></g><g class=\"legendsymbols\"><g class=\"legendpoints\"/></g></g><rect class=\"legendtoggle\" x=\"0\" y=\"-9.5\" width=\"89.28125\" height=\"19\" style=\"fill: rgb(0, 0, 0); fill-opacity: 0;\"/></g><g class=\"traces\" transform=\"translate(0,52.5)\" style=\"opacity: 1;\"><text class=\"legendtext\" text-anchor=\"start\" x=\"40\" y=\"4.680000000000001\" style=\"font-family: 'Open Sans', verdana, arial, sans-serif; font-size: 12px; fill: rgb(42, 63, 95); fill-opacity: 1; white-space: pre;\">Average</text><g class=\"layers\" style=\"opacity: 1;\"><g class=\"legendfill\"/><g class=\"legendlines\"><path class=\"js-line\" d=\"M5,0h30\" style=\"fill: none; stroke: rgb(0, 204, 150); stroke-opacity: 1; stroke-width: 2px;\"/></g><g class=\"legendsymbols\"><g class=\"legendpoints\"/></g></g><rect class=\"legendtoggle\" x=\"0\" y=\"-9.5\" width=\"89.28125\" height=\"19\" style=\"fill: rgb(0, 0, 0); fill-opacity: 0;\"/></g></g></g><rect class=\"scrollbar\" rx=\"20\" ry=\"3\" width=\"0\" height=\"0\" x=\"0\" y=\"0\" style=\"fill: rgb(128, 139, 164); fill-opacity: 1;\"/></g><g class=\"g-gtitle\"/><g class=\"g-xtitle\"/><g class=\"g-ytitle\"><text class=\"ytitle\" transform=\"rotate(-90,38.91875,260)\" x=\"38.91875\" y=\"260\" text-anchor=\"middle\" style=\"font-family: 'Open Sans', verdana, arial, sans-serif; font-size: 14px; fill: rgb(42, 63, 95); opacity: 1; font-weight: normal; white-space: pre;\">Temperature (degrees C)</text></g></g></svg>"
     },
     "metadata": {},
     "output_type": "display_data"
    }
   ],
   "source": [
    "fig.show(\"notebook\")"
   ]
  }
 ],
 "metadata": {
  "kernelspec": {
   "display_name": "Python 3.10.8 64-bit",
   "language": "python",
   "name": "python3"
  },
  "language_info": {
   "codemirror_mode": {
    "name": "ipython",
    "version": 3
   },
   "file_extension": ".py",
   "mimetype": "text/x-python",
   "name": "python",
   "nbconvert_exporter": "python",
   "pygments_lexer": "ipython3",
   "version": "3.10.8"
  },
  "orig_nbformat": 4,
  "vscode": {
   "interpreter": {
    "hash": "949777d72b0d2535278d3dc13498b2535136f6dfe0678499012e853ee9abcab1"
   }
  }
 },
 "nbformat": 4,
 "nbformat_minor": 2
}
