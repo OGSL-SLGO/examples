{
 "cells": [
  {
   "cell_type": "markdown",
   "metadata": {},
   "source": [
    "# Exemple d'utilisation d'un jeu de données CTD sous forme de profil (données d'une colonne d'eau)\n",
    "\n",
    "Pour plus de contexte voir: [README](https://github.com/OGSL-SLGO/examples/blob/main/examples/ctd-profile/)\n",
    "\n",
    "## Partie 1: Exploration\n",
    "\n",
    "Nous avons ici les metadonnées d'un jeu de données: https://erddap.ogsl.ca/erddap/info/mpoPmzaVikingCtdInsitu/index.html\n",
    "\n",
    "la valeur `featureType=TimeSeriesProfile`, nous indique que ce jeu de données contient des profils de données, pris à plusieurs moments pour une même localisation.\n",
    "\n",
    "La page https://erddap.ogsl.ca/erddap/tabledap/mpoPmzaVikingCtdInsitu.html permet de filtrer nos données et d'obtenir un lien de téléchargement.\n",
    "\n",
    "Prenons un échantillon de données de 1 mois."
   ]
  },
  {
   "cell_type": "code",
   "execution_count": 1,
   "metadata": {},
   "outputs": [
    {
     "data": {
      "text/html": [
       "<div>\n",
       "<style scoped>\n",
       "    .dataframe tbody tr th:only-of-type {\n",
       "        vertical-align: middle;\n",
       "    }\n",
       "\n",
       "    .dataframe tbody tr th {\n",
       "        vertical-align: top;\n",
       "    }\n",
       "\n",
       "    .dataframe thead tr th {\n",
       "        text-align: left;\n",
       "    }\n",
       "</style>\n",
       "<table border=\"1\" class=\"dataframe\">\n",
       "  <thead>\n",
       "    <tr>\n",
       "      <th></th>\n",
       "      <th>station_id</th>\n",
       "      <th>time</th>\n",
       "      <th>obs_lat</th>\n",
       "      <th>obs_lon</th>\n",
       "      <th>latitude</th>\n",
       "      <th>longitude</th>\n",
       "      <th>profile</th>\n",
       "      <th>depth</th>\n",
       "      <th>TE90_01</th>\n",
       "      <th>PRES_01</th>\n",
       "      <th>PSAL_01</th>\n",
       "      <th>FLOR_01</th>\n",
       "      <th>DOXY_01</th>\n",
       "    </tr>\n",
       "    <tr>\n",
       "      <th></th>\n",
       "      <th>Unnamed: 0_level_1</th>\n",
       "      <th>UTC</th>\n",
       "      <th>Degrees north</th>\n",
       "      <th>Degrees east</th>\n",
       "      <th>degrees_north</th>\n",
       "      <th>degrees_east</th>\n",
       "      <th>Unnamed: 6_level_1</th>\n",
       "      <th>m</th>\n",
       "      <th>degree_C</th>\n",
       "      <th>decibar</th>\n",
       "      <th>PSU</th>\n",
       "      <th>mg/m^3</th>\n",
       "      <th>micromol/L</th>\n",
       "    </tr>\n",
       "  </thead>\n",
       "  <tbody>\n",
       "    <tr>\n",
       "      <th>0</th>\n",
       "      <td>AZMP-ESG</td>\n",
       "      <td>2022-06-06T09:31:43Z</td>\n",
       "      <td>46.7995</td>\n",
       "      <td>-62.001</td>\n",
       "      <td>46.8</td>\n",
       "      <td>-62.0</td>\n",
       "      <td>AZMP-ESG-22/06/06-09:31:43</td>\n",
       "      <td>0.105122</td>\n",
       "      <td>8.2790</td>\n",
       "      <td>0.106</td>\n",
       "      <td>29.7167</td>\n",
       "      <td>0.669</td>\n",
       "      <td>NaN</td>\n",
       "    </tr>\n",
       "    <tr>\n",
       "      <th>1</th>\n",
       "      <td>AZMP-ESG</td>\n",
       "      <td>2022-06-06T09:31:43Z</td>\n",
       "      <td>46.7995</td>\n",
       "      <td>-62.001</td>\n",
       "      <td>46.8</td>\n",
       "      <td>-62.0</td>\n",
       "      <td>AZMP-ESG-22/06/06-09:31:43</td>\n",
       "      <td>0.185451</td>\n",
       "      <td>8.2813</td>\n",
       "      <td>0.187</td>\n",
       "      <td>29.7178</td>\n",
       "      <td>0.669</td>\n",
       "      <td>NaN</td>\n",
       "    </tr>\n",
       "    <tr>\n",
       "      <th>2</th>\n",
       "      <td>AZMP-ESG</td>\n",
       "      <td>2022-06-06T09:31:43Z</td>\n",
       "      <td>46.7995</td>\n",
       "      <td>-62.001</td>\n",
       "      <td>46.8</td>\n",
       "      <td>-62.0</td>\n",
       "      <td>AZMP-ESG-22/06/06-09:31:43</td>\n",
       "      <td>0.233054</td>\n",
       "      <td>8.2826</td>\n",
       "      <td>0.235</td>\n",
       "      <td>29.7189</td>\n",
       "      <td>0.669</td>\n",
       "      <td>362.37</td>\n",
       "    </tr>\n",
       "    <tr>\n",
       "      <th>3</th>\n",
       "      <td>AZMP-ESG</td>\n",
       "      <td>2022-06-06T09:31:43Z</td>\n",
       "      <td>46.7995</td>\n",
       "      <td>-62.001</td>\n",
       "      <td>46.8</td>\n",
       "      <td>-62.0</td>\n",
       "      <td>AZMP-ESG-22/06/06-09:31:43</td>\n",
       "      <td>0.300490</td>\n",
       "      <td>8.2850</td>\n",
       "      <td>0.303</td>\n",
       "      <td>29.7167</td>\n",
       "      <td>0.669</td>\n",
       "      <td>362.37</td>\n",
       "    </tr>\n",
       "    <tr>\n",
       "      <th>4</th>\n",
       "      <td>AZMP-ESG</td>\n",
       "      <td>2022-06-06T09:31:43Z</td>\n",
       "      <td>46.7995</td>\n",
       "      <td>-62.001</td>\n",
       "      <td>46.8</td>\n",
       "      <td>-62.0</td>\n",
       "      <td>AZMP-ESG-22/06/06-09:31:43</td>\n",
       "      <td>0.355035</td>\n",
       "      <td>8.2879</td>\n",
       "      <td>0.358</td>\n",
       "      <td>29.7075</td>\n",
       "      <td>0.669</td>\n",
       "      <td>362.37</td>\n",
       "    </tr>\n",
       "  </tbody>\n",
       "</table>\n",
       "</div>"
      ],
      "text/plain": [
       "          station_id                  time       obs_lat      obs_lon  \\\n",
       "  Unnamed: 0_level_1                   UTC Degrees north Degrees east   \n",
       "0           AZMP-ESG  2022-06-06T09:31:43Z       46.7995      -62.001   \n",
       "1           AZMP-ESG  2022-06-06T09:31:43Z       46.7995      -62.001   \n",
       "2           AZMP-ESG  2022-06-06T09:31:43Z       46.7995      -62.001   \n",
       "3           AZMP-ESG  2022-06-06T09:31:43Z       46.7995      -62.001   \n",
       "4           AZMP-ESG  2022-06-06T09:31:43Z       46.7995      -62.001   \n",
       "\n",
       "       latitude    longitude                     profile     depth  TE90_01  \\\n",
       "  degrees_north degrees_east          Unnamed: 6_level_1         m degree_C   \n",
       "0          46.8        -62.0  AZMP-ESG-22/06/06-09:31:43  0.105122   8.2790   \n",
       "1          46.8        -62.0  AZMP-ESG-22/06/06-09:31:43  0.185451   8.2813   \n",
       "2          46.8        -62.0  AZMP-ESG-22/06/06-09:31:43  0.233054   8.2826   \n",
       "3          46.8        -62.0  AZMP-ESG-22/06/06-09:31:43  0.300490   8.2850   \n",
       "4          46.8        -62.0  AZMP-ESG-22/06/06-09:31:43  0.355035   8.2879   \n",
       "\n",
       "  PRES_01  PSAL_01 FLOR_01    DOXY_01  \n",
       "  decibar      PSU  mg/m^3 micromol/L  \n",
       "0   0.106  29.7167   0.669        NaN  \n",
       "1   0.187  29.7178   0.669        NaN  \n",
       "2   0.235  29.7189   0.669     362.37  \n",
       "3   0.303  29.7167   0.669     362.37  \n",
       "4   0.358  29.7075   0.669     362.37  "
      ]
     },
     "execution_count": 1,
     "metadata": {},
     "output_type": "execute_result"
    }
   ],
   "source": [
    "import pandas as pd\n",
    "\n",
    "data_url = \"https://erddap.ogsl.ca/erddap/tabledap/mpoPmzaVikingCtdInsitu.csv?station_id%2Ctime%2Cobs_lat%2Cobs_lon%2Clatitude%2Clongitude%2Cprofile%2Cdepth%2CTE90_01%2CPRES_01%2CPSAL_01%2CFLOR_01%2CDOXY_01&time%3E=2022-06-06T00%3A00%3A00Z&time%3C=2022-07-06T20%3A01%3A44Z\"\n",
    "\n",
    "dataframe = pd.read_csv(data_url, header=[0,1])\n",
    "dataframe.head()\n"
   ]
  },
  {
   "cell_type": "markdown",
   "metadata": {},
   "source": [
    "On remarque bien que l'on a des données d'une colonne d'eau à un moment donné.\n",
    "\n",
    "la colonne ***profile*** semble être l'identifiant d'un profil dans ce jeu de données. Ceci est confirmé dans la page de métadonnées par `cf_role=profile_id`.\n",
    "\n",
    "Listons les profils sur un an, pour la stations ***AZMP-ESG*** afin d'avoir une idée de la granularité temporelle:"
   ]
  },
  {
   "cell_type": "code",
   "execution_count": 2,
   "metadata": {},
   "outputs": [
    {
     "data": {
      "text/html": [
       "<div>\n",
       "<style scoped>\n",
       "    .dataframe tbody tr th:only-of-type {\n",
       "        vertical-align: middle;\n",
       "    }\n",
       "\n",
       "    .dataframe tbody tr th {\n",
       "        vertical-align: top;\n",
       "    }\n",
       "\n",
       "    .dataframe thead tr th {\n",
       "        text-align: left;\n",
       "    }\n",
       "</style>\n",
       "<table border=\"1\" class=\"dataframe\">\n",
       "  <thead>\n",
       "    <tr>\n",
       "      <th></th>\n",
       "      <th>profile</th>\n",
       "    </tr>\n",
       "    <tr>\n",
       "      <th></th>\n",
       "      <th>AZMP-ESG-21/06/06-06:01:41</th>\n",
       "    </tr>\n",
       "  </thead>\n",
       "  <tbody>\n",
       "    <tr>\n",
       "      <th>0</th>\n",
       "      <td>AZMP-ESG-21/06/06-12:01:41</td>\n",
       "    </tr>\n",
       "    <tr>\n",
       "      <th>1</th>\n",
       "      <td>AZMP-ESG-21/06/06-18:01:41</td>\n",
       "    </tr>\n",
       "    <tr>\n",
       "      <th>2</th>\n",
       "      <td>AZMP-ESG-21/06/07-00:01:41</td>\n",
       "    </tr>\n",
       "    <tr>\n",
       "      <th>3</th>\n",
       "      <td>AZMP-ESG-21/06/07-06:01:41</td>\n",
       "    </tr>\n",
       "    <tr>\n",
       "      <th>4</th>\n",
       "      <td>AZMP-ESG-21/06/09-01:01:41</td>\n",
       "    </tr>\n",
       "    <tr>\n",
       "      <th>5</th>\n",
       "      <td>AZMP-ESG-21/06/09-19:01:41</td>\n",
       "    </tr>\n",
       "    <tr>\n",
       "      <th>6</th>\n",
       "      <td>AZMP-ESG-21/06/10-06:31:41</td>\n",
       "    </tr>\n",
       "    <tr>\n",
       "      <th>7</th>\n",
       "      <td>AZMP-ESG-21/06/12-07:01:41</td>\n",
       "    </tr>\n",
       "    <tr>\n",
       "      <th>8</th>\n",
       "      <td>AZMP-ESG-21/06/12-19:01:41</td>\n",
       "    </tr>\n",
       "    <tr>\n",
       "      <th>9</th>\n",
       "      <td>AZMP-ESG-21/06/13-01:01:41</td>\n",
       "    </tr>\n",
       "  </tbody>\n",
       "</table>\n",
       "</div>"
      ],
      "text/plain": [
       "                      profile\n",
       "   AZMP-ESG-21/06/06-06:01:41\n",
       "0  AZMP-ESG-21/06/06-12:01:41\n",
       "1  AZMP-ESG-21/06/06-18:01:41\n",
       "2  AZMP-ESG-21/06/07-00:01:41\n",
       "3  AZMP-ESG-21/06/07-06:01:41\n",
       "4  AZMP-ESG-21/06/09-01:01:41\n",
       "5  AZMP-ESG-21/06/09-19:01:41\n",
       "6  AZMP-ESG-21/06/10-06:31:41\n",
       "7  AZMP-ESG-21/06/12-07:01:41\n",
       "8  AZMP-ESG-21/06/12-19:01:41\n",
       "9  AZMP-ESG-21/06/13-01:01:41"
      ]
     },
     "execution_count": 2,
     "metadata": {},
     "output_type": "execute_result"
    }
   ],
   "source": [
    "data_url = \"https://erddap.ogsl.ca/erddap/tabledap/mpoPmzaVikingCtdInsitu.csv?profile&station_id=%22AZMP-ESG%22&time%3E=2021-06-06T06%3A01%3A41Z&distinct()\"\n",
    "dataframe = pd.read_csv(data_url, header=[0,1])\n",
    "dataframe.head(10)"
   ]
  },
  {
   "cell_type": "code",
   "execution_count": 3,
   "metadata": {},
   "outputs": [
    {
     "data": {
      "text/plain": [
       "204"
      ]
     },
     "execution_count": 3,
     "metadata": {},
     "output_type": "execute_result"
    }
   ],
   "source": [
    "len(dataframe.profile)"
   ]
  },
  {
   "cell_type": "markdown",
   "metadata": {},
   "source": [
    "Il semblerait qu'il y a environ 2 profils par jour pour cette station mais pas sur toute l'année.\n",
    "\n",
    "Comme le volume de données est raisonnable, prenons la liste des profils de toutes les stations sur 1 an."
   ]
  },
  {
   "cell_type": "code",
   "execution_count": 4,
   "metadata": {},
   "outputs": [
    {
     "data": {
      "text/html": [
       "<div>\n",
       "<style scoped>\n",
       "    .dataframe tbody tr th:only-of-type {\n",
       "        vertical-align: middle;\n",
       "    }\n",
       "\n",
       "    .dataframe tbody tr th {\n",
       "        vertical-align: top;\n",
       "    }\n",
       "\n",
       "    .dataframe thead tr th {\n",
       "        text-align: left;\n",
       "    }\n",
       "</style>\n",
       "<table border=\"1\" class=\"dataframe\">\n",
       "  <thead>\n",
       "    <tr>\n",
       "      <th></th>\n",
       "      <th>station_id</th>\n",
       "      <th>time</th>\n",
       "      <th>latitude</th>\n",
       "      <th>longitude</th>\n",
       "      <th>profile</th>\n",
       "    </tr>\n",
       "    <tr>\n",
       "      <th></th>\n",
       "      <th>Unnamed: 0_level_1</th>\n",
       "      <th>UTC</th>\n",
       "      <th>degrees_north</th>\n",
       "      <th>degrees_east</th>\n",
       "      <th>Unnamed: 4_level_1</th>\n",
       "    </tr>\n",
       "  </thead>\n",
       "  <tbody>\n",
       "    <tr>\n",
       "      <th>0</th>\n",
       "      <td>AZMP-HLX</td>\n",
       "      <td>2021-09-17T16:01:41Z</td>\n",
       "      <td>44.3493</td>\n",
       "      <td>-63.3042</td>\n",
       "      <td>AZMP-HLX-21/09/17-16:01:41</td>\n",
       "    </tr>\n",
       "    <tr>\n",
       "      <th>1</th>\n",
       "      <td>AZMP-HLX</td>\n",
       "      <td>2021-09-17T22:01:41Z</td>\n",
       "      <td>44.3493</td>\n",
       "      <td>-63.3042</td>\n",
       "      <td>AZMP-HLX-21/09/17-22:01:41</td>\n",
       "    </tr>\n",
       "    <tr>\n",
       "      <th>2</th>\n",
       "      <td>AZMP-HLX</td>\n",
       "      <td>2021-09-18T04:01:41Z</td>\n",
       "      <td>44.3493</td>\n",
       "      <td>-63.3042</td>\n",
       "      <td>AZMP-HLX-21/09/18-04:01:41</td>\n",
       "    </tr>\n",
       "    <tr>\n",
       "      <th>3</th>\n",
       "      <td>AZMP-HLX</td>\n",
       "      <td>2021-09-18T10:01:41Z</td>\n",
       "      <td>44.3493</td>\n",
       "      <td>-63.3042</td>\n",
       "      <td>AZMP-HLX-21/09/18-10:01:41</td>\n",
       "    </tr>\n",
       "    <tr>\n",
       "      <th>4</th>\n",
       "      <td>AZMP-HLX</td>\n",
       "      <td>2021-09-18T16:01:41Z</td>\n",
       "      <td>44.3493</td>\n",
       "      <td>-63.3042</td>\n",
       "      <td>AZMP-HLX-21/09/18-16:01:41</td>\n",
       "    </tr>\n",
       "    <tr>\n",
       "      <th>5</th>\n",
       "      <td>AZMP-HLX</td>\n",
       "      <td>2021-09-18T22:01:41Z</td>\n",
       "      <td>44.3493</td>\n",
       "      <td>-63.3042</td>\n",
       "      <td>AZMP-HLX-21/09/18-22:01:41</td>\n",
       "    </tr>\n",
       "    <tr>\n",
       "      <th>6</th>\n",
       "      <td>AZMP-HLX</td>\n",
       "      <td>2021-09-19T04:31:41Z</td>\n",
       "      <td>44.3493</td>\n",
       "      <td>-63.3042</td>\n",
       "      <td>AZMP-HLX-21/09/19-04:31:41</td>\n",
       "    </tr>\n",
       "    <tr>\n",
       "      <th>7</th>\n",
       "      <td>AZMP-HLX</td>\n",
       "      <td>2021-09-19T10:31:41Z</td>\n",
       "      <td>44.3493</td>\n",
       "      <td>-63.3042</td>\n",
       "      <td>AZMP-HLX-21/09/19-10:31:41</td>\n",
       "    </tr>\n",
       "    <tr>\n",
       "      <th>8</th>\n",
       "      <td>AZMP-HLX</td>\n",
       "      <td>2021-09-20T03:31:41Z</td>\n",
       "      <td>44.3493</td>\n",
       "      <td>-63.3042</td>\n",
       "      <td>AZMP-HLX-21/09/20-03:31:41</td>\n",
       "    </tr>\n",
       "    <tr>\n",
       "      <th>9</th>\n",
       "      <td>AZMP-HLX</td>\n",
       "      <td>2021-09-20T13:31:41Z</td>\n",
       "      <td>44.3493</td>\n",
       "      <td>-63.3042</td>\n",
       "      <td>AZMP-HLX-21/09/20-13:31:41</td>\n",
       "    </tr>\n",
       "  </tbody>\n",
       "</table>\n",
       "</div>"
      ],
      "text/plain": [
       "          station_id                  time      latitude    longitude  \\\n",
       "  Unnamed: 0_level_1                   UTC degrees_north degrees_east   \n",
       "0           AZMP-HLX  2021-09-17T16:01:41Z       44.3493     -63.3042   \n",
       "1           AZMP-HLX  2021-09-17T22:01:41Z       44.3493     -63.3042   \n",
       "2           AZMP-HLX  2021-09-18T04:01:41Z       44.3493     -63.3042   \n",
       "3           AZMP-HLX  2021-09-18T10:01:41Z       44.3493     -63.3042   \n",
       "4           AZMP-HLX  2021-09-18T16:01:41Z       44.3493     -63.3042   \n",
       "5           AZMP-HLX  2021-09-18T22:01:41Z       44.3493     -63.3042   \n",
       "6           AZMP-HLX  2021-09-19T04:31:41Z       44.3493     -63.3042   \n",
       "7           AZMP-HLX  2021-09-19T10:31:41Z       44.3493     -63.3042   \n",
       "8           AZMP-HLX  2021-09-20T03:31:41Z       44.3493     -63.3042   \n",
       "9           AZMP-HLX  2021-09-20T13:31:41Z       44.3493     -63.3042   \n",
       "\n",
       "                      profile  \n",
       "           Unnamed: 4_level_1  \n",
       "0  AZMP-HLX-21/09/17-16:01:41  \n",
       "1  AZMP-HLX-21/09/17-22:01:41  \n",
       "2  AZMP-HLX-21/09/18-04:01:41  \n",
       "3  AZMP-HLX-21/09/18-10:01:41  \n",
       "4  AZMP-HLX-21/09/18-16:01:41  \n",
       "5  AZMP-HLX-21/09/18-22:01:41  \n",
       "6  AZMP-HLX-21/09/19-04:31:41  \n",
       "7  AZMP-HLX-21/09/19-10:31:41  \n",
       "8  AZMP-HLX-21/09/20-03:31:41  \n",
       "9  AZMP-HLX-21/09/20-13:31:41  "
      ]
     },
     "execution_count": 4,
     "metadata": {},
     "output_type": "execute_result"
    }
   ],
   "source": [
    "import pandas as pd\n",
    "\n",
    "data_url = \"https://erddap.ogsl.ca/erddap/tabledap/mpoPmzaVikingCtdInsitu.csv?station_id%2Ctime%2Clatitude%2Clongitude%2Cprofile&time%3E=2021-06-06T06%3A01%3A41Z\"\n",
    "dataframe = pd.read_csv(data_url, header=[0,1])\n",
    "dataframe.head(10)"
   ]
  },
  {
   "cell_type": "markdown",
   "metadata": {},
   "source": [
    "Nous allons afficher les points de données sur un graphique.\n",
    "\n",
    "Dans un premier temps, supprimons la deuxième ligne d'en-tête car elle va gêner panda et plotly:"
   ]
  },
  {
   "cell_type": "code",
   "execution_count": 5,
   "metadata": {},
   "outputs": [],
   "source": [
    "dataframe.columns = dataframe.columns.droplevel(-1)"
   ]
  },
  {
   "cell_type": "markdown",
   "metadata": {},
   "source": [
    "Nous allons maintenant rééchantilloner le jeu de données en comptant le nombre de profils par jour et par statiion."
   ]
  },
  {
   "cell_type": "code",
   "execution_count": 6,
   "metadata": {},
   "outputs": [
    {
     "name": "stdout",
     "output_type": "stream",
     "text": [
      "                                     profile\n",
      "                                       count\n",
      "time                      station_id        \n",
      "2021-06-06 00:00:00+00:00 AZMP-ESG         3\n",
      "                          AZMP-STA27       2\n",
      "                          IML-BA           3\n",
      "                          PMZA-RIKI        2\n",
      "                          PMZA-VAS         2\n",
      "...                                      ...\n",
      "2022-06-20 00:00:00+00:00 IML-7            2\n",
      "2022-06-21 00:00:00+00:00 AZMP-ESG         5\n",
      "2022-06-22 00:00:00+00:00 AZMP-ESG         3\n",
      "2022-07-05 00:00:00+00:00 AZMP-STA27       1\n",
      "2022-07-06 00:00:00+00:00 AZMP-STA27       2\n",
      "\n",
      "[464 rows x 1 columns]\n"
     ]
    }
   ],
   "source": [
    "dataframe['time'] = pd.to_datetime(dataframe['time'])\n",
    "\n",
    "resampled = dataframe.groupby([pd.Grouper(key=\"time\", freq='1D'), \"station_id\"]).agg({'profile': ['count']})\n",
    "\n",
    "print(resampled)"
   ]
  },
  {
   "cell_type": "markdown",
   "metadata": {},
   "source": [
    "Créons un graphique qui affiche:\n",
    "- en y, les noms des stations\n",
    "- en x, le temps"
   ]
  },
  {
   "cell_type": "markdown",
   "metadata": {},
   "source": [
    "La section suivante transforme les indexs en colonnes et assure qu'il n'y a qu'une ligne d'en-tête. \n",
    "Elle est nécessaire pour l'affichage avec plotly"
   ]
  },
  {
   "cell_type": "code",
   "execution_count": 7,
   "metadata": {},
   "outputs": [
    {
     "name": "stdout",
     "output_type": "stream",
     "text": [
      "                         time  station_id  profile\n",
      "0   2021-06-06 00:00:00+00:00    AZMP-ESG        3\n",
      "1   2021-06-06 00:00:00+00:00  AZMP-STA27        2\n",
      "2   2021-06-06 00:00:00+00:00      IML-BA        3\n",
      "3   2021-06-06 00:00:00+00:00   PMZA-RIKI        2\n",
      "4   2021-06-06 00:00:00+00:00    PMZA-VAS        2\n",
      "..                        ...         ...      ...\n",
      "459 2022-06-20 00:00:00+00:00       IML-7        2\n",
      "460 2022-06-21 00:00:00+00:00    AZMP-ESG        5\n",
      "461 2022-06-22 00:00:00+00:00    AZMP-ESG        3\n",
      "462 2022-07-05 00:00:00+00:00  AZMP-STA27        1\n",
      "463 2022-07-06 00:00:00+00:00  AZMP-STA27        2\n",
      "\n",
      "[464 rows x 3 columns]\n"
     ]
    }
   ],
   "source": [
    "resampled = resampled.reset_index()\n",
    "resampled.columns = resampled.columns.droplevel(-1)\n",
    "print(resampled)"
   ]
  },
  {
   "cell_type": "markdown",
   "metadata": {},
   "source": [
    "Affichons le graphique"
   ]
  },
  {
   "cell_type": "code",
   "execution_count": 8,
   "metadata": {},
   "outputs": [
    {
     "data": {
      "image/png": "[encoded data removed]"
     },
     "metadata": {},
     "output_type": "display_data"
    }
   ],
   "source": [
    "import plotly.express as px\n",
    "\n",
    "fig = px.scatter(resampled, x=\"time\", y=\"station_id\", color=\"station_id\", hover_data=[\"profile\"])\n",
    "\n",
    "fig.update_traces(hovertemplate='station_id: %{x} <br>time: %{y} <br>profile count: %{customdata[0]}')\n",
    "fig.update_layout(showlegend=False)\n",
    "\n",
    "# Remove \"png\" to display an interactive graph\n",
    "# Le mode intéractif permet de voir de nombre de profils d'une journée avec le curseur de la souris\n",
    "fig.show(\"png\")"
   ]
  },
  {
   "cell_type": "markdown",
   "metadata": {},
   "source": [
    "Ce graphique nous donnes une idée des jours sur lesquels des profils sont disponible. Il nous donne une idée de l'effort d'observation aussi (journées avec profil vs journées sans profil).\n",
    "\n",
    "Dans le notebook suivant sur afficheront des profils pour la sation ***PMZA-VAS***"
   ]
  }
 ],
 "metadata": {
  "kernelspec": {
   "display_name": "Python 3.10.8 64-bit",
   "language": "python",
   "name": "python3"
  },
  "language_info": {
   "codemirror_mode": {
    "name": "ipython",
    "version": 3
   },
   "file_extension": ".py",
   "mimetype": "text/x-python",
   "name": "python",
   "nbconvert_exporter": "python",
   "pygments_lexer": "ipython3",
   "version": "3.10.8"
  },
  "orig_nbformat": 4,
  "vscode": {
   "interpreter": {
    "hash": "949777d72b0d2535278d3dc13498b2535136f6dfe0678499012e853ee9abcab1"
   }
  }
 },
 "nbformat": 4,
 "nbformat_minor": 2
}
