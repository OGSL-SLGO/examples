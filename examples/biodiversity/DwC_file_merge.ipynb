{
 "cells": [
  {
   "attachments": {},
   "cell_type": "markdown",
   "metadata": {},
   "source": [
    "# Utilisation d'une archive Darwin Core\n",
    "\n",
    "Pour plus de contexte voir : [README](https://github.com/OGSL-SLGO/examples/blob/main/examples/biodiversity/)\n",
    "\n",
    "## Importation et exploration des fichiers\n",
    "\n",
    "Les informations et les métadonnées sur l'archive Darwin Core utilisée peuvent être trouvées ici : https://catalogue.ogsl.ca/dataset/3b8c6d97-6eb8-4e8d-9869-ccb2b9bab5f3\n",
    "\n",
    "Assurez-vous d'avoir les packages requis: "
   ]
  },
  {
   "cell_type": "code",
   "execution_count": 1,
   "metadata": {},
   "outputs": [
    {
     "name": "stderr",
     "output_type": "stream",
     "text": [
      "── \u001b[1mAttaching packages\u001b[22m ─────────────────────────────────────── tidyverse 1.3.2 ──\n",
      "\u001b[32m✔\u001b[39m \u001b[34mggplot2\u001b[39m 3.4.0      \u001b[32m✔\u001b[39m \u001b[34mpurrr  \u001b[39m 1.0.0 \n",
      "\u001b[32m✔\u001b[39m \u001b[34mtibble \u001b[39m 3.1.8      \u001b[32m✔\u001b[39m \u001b[34mdplyr  \u001b[39m 1.0.10\n",
      "\u001b[32m✔\u001b[39m \u001b[34mtidyr  \u001b[39m 1.2.1      \u001b[32m✔\u001b[39m \u001b[34mstringr\u001b[39m 1.5.0 \n",
      "\u001b[32m✔\u001b[39m \u001b[34mreadr  \u001b[39m 2.1.3      \u001b[32m✔\u001b[39m \u001b[34mforcats\u001b[39m 0.5.2 \n",
      "── \u001b[1mConflicts\u001b[22m ────────────────────────────────────────── tidyverse_conflicts() ──\n",
      "\u001b[31m✖\u001b[39m \u001b[34mdplyr\u001b[39m::\u001b[32mfilter()\u001b[39m masks \u001b[34mstats\u001b[39m::filter()\n",
      "\u001b[31m✖\u001b[39m \u001b[34mdplyr\u001b[39m::\u001b[32mlag()\u001b[39m    masks \u001b[34mstats\u001b[39m::lag()\n"
     ]
    }
   ],
   "source": [
    "library('tidyverse')"
   ]
  },
  {
   "attachments": {},
   "cell_type": "markdown",
   "metadata": {},
   "source": [
    "L'archive utilisée comme exemple contient 4 fichiers : \n",
    "- un fichier *event core*\n",
    "- un fichier *occurrence core*\n",
    "- deux fichiers *measurement of facts* (emof): event et occurrence"
   ]
  },
  {
   "cell_type": "code",
   "execution_count": 2,
   "metadata": {},
   "outputs": [
    {
     "data": {
      "text/html": [
       "<table class=\"dataframe\">\n",
       "<caption>A data.frame: 6 × 12</caption>\n",
       "<thead>\n",
       "\t<tr><th></th><th scope=col>datasetID</th><th scope=col>countryCode</th><th scope=col>eventID</th><th scope=col>eventDate</th><th scope=col>code_station</th><th scope=col>num_echantillon</th><th scope=col>samplingProtocol</th><th scope=col>decimalLongitude</th><th scope=col>decimalLatitude</th><th scope=col>habitat</th><th scope=col>maximumElevationInMeters</th><th scope=col>commentaires</th></tr>\n",
       "\t<tr><th></th><th scope=col>&lt;chr&gt;</th><th scope=col>&lt;chr&gt;</th><th scope=col>&lt;chr&gt;</th><th scope=col>&lt;chr&gt;</th><th scope=col>&lt;chr&gt;</th><th scope=col>&lt;int&gt;</th><th scope=col>&lt;chr&gt;</th><th scope=col>&lt;dbl&gt;</th><th scope=col>&lt;dbl&gt;</th><th scope=col>&lt;chr&gt;</th><th scope=col>&lt;dbl&gt;</th><th scope=col>&lt;chr&gt;</th></tr>\n",
       "</thead>\n",
       "<tbody>\n",
       "\t<tr><th scope=row>1</th><td>CZIP-RNE-MARAIS-PF</td><td>CA</td><td>CZIP-RNE-PF-2019-B1-1 </td><td>2019-08-26T16:35</td><td>B1</td><td> 1</td><td>Bourolle</td><td>-69.09246</td><td>48.64362</td><td>Marelle / Haut marais</td><td>NA</td><td></td></tr>\n",
       "\t<tr><th scope=row>2</th><td>CZIP-RNE-MARAIS-PF</td><td>CA</td><td>CZIP-RNE-PF-2019-B1-9 </td><td>2019-08-27T08:52</td><td>B1</td><td> 9</td><td>Bourolle</td><td>-69.09246</td><td>48.64362</td><td>Marelle / Haut marais</td><td>NA</td><td></td></tr>\n",
       "\t<tr><th scope=row>3</th><td>CZIP-RNE-MARAIS-PF</td><td>CA</td><td>CZIP-RNE-PF-2019-B1-15</td><td>2019-08-27T17:32</td><td>B1</td><td>15</td><td>Bourolle</td><td>-69.09246</td><td>48.64362</td><td>Marelle / Haut marais</td><td>NA</td><td></td></tr>\n",
       "\t<tr><th scope=row>4</th><td>CZIP-RNE-MARAIS-PF</td><td>CA</td><td>CZIP-RNE-PF-2019-B1-22</td><td>2019-08-28T09:42</td><td>B1</td><td>22</td><td>Bourolle</td><td>-69.09246</td><td>48.64362</td><td>Marelle / Haut marais</td><td>NA</td><td></td></tr>\n",
       "\t<tr><th scope=row>5</th><td>CZIP-RNE-MARAIS-PF</td><td>CA</td><td>CZIP-RNE-PF-2019-B1-25</td><td>2019-08-28T16:37</td><td>B1</td><td>25</td><td>Bourolle</td><td>-69.09246</td><td>48.64362</td><td>Marelle / Haut marais</td><td>NA</td><td></td></tr>\n",
       "\t<tr><th scope=row>6</th><td>CZIP-RNE-MARAIS-PF</td><td>CA</td><td>CZIP-RNE-PF-2019-B1-34</td><td>2019-08-29T11:42</td><td>B1</td><td>34</td><td>Bourolle</td><td>-69.09246</td><td>48.64362</td><td>NA                   </td><td>NA</td><td></td></tr>\n",
       "</tbody>\n",
       "</table>\n"
      ],
      "text/latex": [
       "A data.frame: 6 × 12\n",
       "\\begin{tabular}{r|llllllllllll}\n",
       "  & datasetID & countryCode & eventID & eventDate & code\\_station & num\\_echantillon & samplingProtocol & decimalLongitude & decimalLatitude & habitat & maximumElevationInMeters & commentaires\\\\\n",
       "  & <chr> & <chr> & <chr> & <chr> & <chr> & <int> & <chr> & <dbl> & <dbl> & <chr> & <dbl> & <chr>\\\\\n",
       "\\hline\n",
       "\t1 & CZIP-RNE-MARAIS-PF & CA & CZIP-RNE-PF-2019-B1-1  & 2019-08-26T16:35 & B1 &  1 & Bourolle & -69.09246 & 48.64362 & Marelle / Haut marais & NA & \\\\\n",
       "\t2 & CZIP-RNE-MARAIS-PF & CA & CZIP-RNE-PF-2019-B1-9  & 2019-08-27T08:52 & B1 &  9 & Bourolle & -69.09246 & 48.64362 & Marelle / Haut marais & NA & \\\\\n",
       "\t3 & CZIP-RNE-MARAIS-PF & CA & CZIP-RNE-PF-2019-B1-15 & 2019-08-27T17:32 & B1 & 15 & Bourolle & -69.09246 & 48.64362 & Marelle / Haut marais & NA & \\\\\n",
       "\t4 & CZIP-RNE-MARAIS-PF & CA & CZIP-RNE-PF-2019-B1-22 & 2019-08-28T09:42 & B1 & 22 & Bourolle & -69.09246 & 48.64362 & Marelle / Haut marais & NA & \\\\\n",
       "\t5 & CZIP-RNE-MARAIS-PF & CA & CZIP-RNE-PF-2019-B1-25 & 2019-08-28T16:37 & B1 & 25 & Bourolle & -69.09246 & 48.64362 & Marelle / Haut marais & NA & \\\\\n",
       "\t6 & CZIP-RNE-MARAIS-PF & CA & CZIP-RNE-PF-2019-B1-34 & 2019-08-29T11:42 & B1 & 34 & Bourolle & -69.09246 & 48.64362 & NA                    & NA & \\\\\n",
       "\\end{tabular}\n"
      ],
      "text/markdown": [
       "\n",
       "A data.frame: 6 × 12\n",
       "\n",
       "| <!--/--> | datasetID &lt;chr&gt; | countryCode &lt;chr&gt; | eventID &lt;chr&gt; | eventDate &lt;chr&gt; | code_station &lt;chr&gt; | num_echantillon &lt;int&gt; | samplingProtocol &lt;chr&gt; | decimalLongitude &lt;dbl&gt; | decimalLatitude &lt;dbl&gt; | habitat &lt;chr&gt; | maximumElevationInMeters &lt;dbl&gt; | commentaires &lt;chr&gt; |\n",
       "|---|---|---|---|---|---|---|---|---|---|---|---|---|\n",
       "| 1 | CZIP-RNE-MARAIS-PF | CA | CZIP-RNE-PF-2019-B1-1  | 2019-08-26T16:35 | B1 |  1 | Bourolle | -69.09246 | 48.64362 | Marelle / Haut marais | NA | <!----> |\n",
       "| 2 | CZIP-RNE-MARAIS-PF | CA | CZIP-RNE-PF-2019-B1-9  | 2019-08-27T08:52 | B1 |  9 | Bourolle | -69.09246 | 48.64362 | Marelle / Haut marais | NA | <!----> |\n",
       "| 3 | CZIP-RNE-MARAIS-PF | CA | CZIP-RNE-PF-2019-B1-15 | 2019-08-27T17:32 | B1 | 15 | Bourolle | -69.09246 | 48.64362 | Marelle / Haut marais | NA | <!----> |\n",
       "| 4 | CZIP-RNE-MARAIS-PF | CA | CZIP-RNE-PF-2019-B1-22 | 2019-08-28T09:42 | B1 | 22 | Bourolle | -69.09246 | 48.64362 | Marelle / Haut marais | NA | <!----> |\n",
       "| 5 | CZIP-RNE-MARAIS-PF | CA | CZIP-RNE-PF-2019-B1-25 | 2019-08-28T16:37 | B1 | 25 | Bourolle | -69.09246 | 48.64362 | Marelle / Haut marais | NA | <!----> |\n",
       "| 6 | CZIP-RNE-MARAIS-PF | CA | CZIP-RNE-PF-2019-B1-34 | 2019-08-29T11:42 | B1 | 34 | Bourolle | -69.09246 | 48.64362 | NA                    | NA | <!----> |\n",
       "\n"
      ],
      "text/plain": [
       "  datasetID          countryCode eventID                eventDate       \n",
       "1 CZIP-RNE-MARAIS-PF CA          CZIP-RNE-PF-2019-B1-1  2019-08-26T16:35\n",
       "2 CZIP-RNE-MARAIS-PF CA          CZIP-RNE-PF-2019-B1-9  2019-08-27T08:52\n",
       "3 CZIP-RNE-MARAIS-PF CA          CZIP-RNE-PF-2019-B1-15 2019-08-27T17:32\n",
       "4 CZIP-RNE-MARAIS-PF CA          CZIP-RNE-PF-2019-B1-22 2019-08-28T09:42\n",
       "5 CZIP-RNE-MARAIS-PF CA          CZIP-RNE-PF-2019-B1-25 2019-08-28T16:37\n",
       "6 CZIP-RNE-MARAIS-PF CA          CZIP-RNE-PF-2019-B1-34 2019-08-29T11:42\n",
       "  code_station num_echantillon samplingProtocol decimalLongitude\n",
       "1 B1            1              Bourolle         -69.09246       \n",
       "2 B1            9              Bourolle         -69.09246       \n",
       "3 B1           15              Bourolle         -69.09246       \n",
       "4 B1           22              Bourolle         -69.09246       \n",
       "5 B1           25              Bourolle         -69.09246       \n",
       "6 B1           34              Bourolle         -69.09246       \n",
       "  decimalLatitude habitat               maximumElevationInMeters commentaires\n",
       "1 48.64362        Marelle / Haut marais NA                                   \n",
       "2 48.64362        Marelle / Haut marais NA                                   \n",
       "3 48.64362        Marelle / Haut marais NA                                   \n",
       "4 48.64362        Marelle / Haut marais NA                                   \n",
       "5 48.64362        Marelle / Haut marais NA                                   \n",
       "6 48.64362        NA                    NA                                   "
      ]
     },
     "metadata": {},
     "output_type": "display_data"
    },
    {
     "data": {
      "text/html": [
       "<table class=\"dataframe\">\n",
       "<caption>A data.frame: 6 × 5</caption>\n",
       "<thead>\n",
       "\t<tr><th></th><th scope=col>eventID</th><th scope=col>measurementID</th><th scope=col>measurementType</th><th scope=col>measurementValue</th><th scope=col>measurementUnit</th></tr>\n",
       "\t<tr><th></th><th scope=col>&lt;chr&gt;</th><th scope=col>&lt;chr&gt;</th><th scope=col>&lt;chr&gt;</th><th scope=col>&lt;chr&gt;</th><th scope=col>&lt;chr&gt;</th></tr>\n",
       "</thead>\n",
       "<tbody>\n",
       "\t<tr><th scope=row>1</th><td>CZIP-RNE-PF-2019-B1-1</td><td>CZIP-RNE-PF-2019-B1-1-MESURE-01 </td><td>État de la marée    </td><td>Basse et Descendante</td><td>    </td></tr>\n",
       "\t<tr><th scope=row>2</th><td>CZIP-RNE-PF-2019-B1-1</td><td>CZIP-RNE-PF-2019-B1-1-MESURE-49 </td><td>Condition météo     </td><td>Nuageux             </td><td>    </td></tr>\n",
       "\t<tr><th scope=row>3</th><td>CZIP-RNE-PF-2019-B1-1</td><td>CZIP-RNE-PF-2019-B1-1-MESURE-97 </td><td>Type de substrat    </td><td>Argile / Vaseux     </td><td>    </td></tr>\n",
       "\t<tr><th scope=row>4</th><td>CZIP-RNE-PF-2019-B1-1</td><td>CZIP-RNE-PF-2019-B1-1-MESURE-146</td><td>Condition météo     </td><td>Nuageux             </td><td>    </td></tr>\n",
       "\t<tr><th scope=row>5</th><td>CZIP-RNE-PF-2019-B1-1</td><td>CZIP-RNE-PF-2019-B1-1-MESURE-194</td><td>Vitesse du vent     </td><td>5                   </td><td>km/h</td></tr>\n",
       "\t<tr><th scope=row>6</th><td>CZIP-RNE-PF-2019-B1-1</td><td>CZIP-RNE-PF-2019-B1-1-MESURE-242</td><td>Température de l'air</td><td>25                  </td><td>°C  </td></tr>\n",
       "</tbody>\n",
       "</table>\n"
      ],
      "text/latex": [
       "A data.frame: 6 × 5\n",
       "\\begin{tabular}{r|lllll}\n",
       "  & eventID & measurementID & measurementType & measurementValue & measurementUnit\\\\\n",
       "  & <chr> & <chr> & <chr> & <chr> & <chr>\\\\\n",
       "\\hline\n",
       "\t1 & CZIP-RNE-PF-2019-B1-1 & CZIP-RNE-PF-2019-B1-1-MESURE-01  & État de la marée     & Basse et Descendante &     \\\\\n",
       "\t2 & CZIP-RNE-PF-2019-B1-1 & CZIP-RNE-PF-2019-B1-1-MESURE-49  & Condition météo      & Nuageux              &     \\\\\n",
       "\t3 & CZIP-RNE-PF-2019-B1-1 & CZIP-RNE-PF-2019-B1-1-MESURE-97  & Type de substrat     & Argile / Vaseux      &     \\\\\n",
       "\t4 & CZIP-RNE-PF-2019-B1-1 & CZIP-RNE-PF-2019-B1-1-MESURE-146 & Condition météo      & Nuageux              &     \\\\\n",
       "\t5 & CZIP-RNE-PF-2019-B1-1 & CZIP-RNE-PF-2019-B1-1-MESURE-194 & Vitesse du vent      & 5                    & km/h\\\\\n",
       "\t6 & CZIP-RNE-PF-2019-B1-1 & CZIP-RNE-PF-2019-B1-1-MESURE-242 & Température de l'air & 25                   & °C  \\\\\n",
       "\\end{tabular}\n"
      ],
      "text/markdown": [
       "\n",
       "A data.frame: 6 × 5\n",
       "\n",
       "| <!--/--> | eventID &lt;chr&gt; | measurementID &lt;chr&gt; | measurementType &lt;chr&gt; | measurementValue &lt;chr&gt; | measurementUnit &lt;chr&gt; |\n",
       "|---|---|---|---|---|---|\n",
       "| 1 | CZIP-RNE-PF-2019-B1-1 | CZIP-RNE-PF-2019-B1-1-MESURE-01  | État de la marée     | Basse et Descendante | <!----> |\n",
       "| 2 | CZIP-RNE-PF-2019-B1-1 | CZIP-RNE-PF-2019-B1-1-MESURE-49  | Condition météo      | Nuageux              | <!----> |\n",
       "| 3 | CZIP-RNE-PF-2019-B1-1 | CZIP-RNE-PF-2019-B1-1-MESURE-97  | Type de substrat     | Argile / Vaseux      | <!----> |\n",
       "| 4 | CZIP-RNE-PF-2019-B1-1 | CZIP-RNE-PF-2019-B1-1-MESURE-146 | Condition météo      | Nuageux              | <!----> |\n",
       "| 5 | CZIP-RNE-PF-2019-B1-1 | CZIP-RNE-PF-2019-B1-1-MESURE-194 | Vitesse du vent      | 5                    | km/h |\n",
       "| 6 | CZIP-RNE-PF-2019-B1-1 | CZIP-RNE-PF-2019-B1-1-MESURE-242 | Température de l'air | 25                   | °C   |\n",
       "\n"
      ],
      "text/plain": [
       "  eventID               measurementID                    measurementType     \n",
       "1 CZIP-RNE-PF-2019-B1-1 CZIP-RNE-PF-2019-B1-1-MESURE-01  État de la marée    \n",
       "2 CZIP-RNE-PF-2019-B1-1 CZIP-RNE-PF-2019-B1-1-MESURE-49  Condition météo     \n",
       "3 CZIP-RNE-PF-2019-B1-1 CZIP-RNE-PF-2019-B1-1-MESURE-97  Type de substrat    \n",
       "4 CZIP-RNE-PF-2019-B1-1 CZIP-RNE-PF-2019-B1-1-MESURE-146 Condition météo     \n",
       "5 CZIP-RNE-PF-2019-B1-1 CZIP-RNE-PF-2019-B1-1-MESURE-194 Vitesse du vent     \n",
       "6 CZIP-RNE-PF-2019-B1-1 CZIP-RNE-PF-2019-B1-1-MESURE-242 Température de l'air\n",
       "  measurementValue     measurementUnit\n",
       "1 Basse et Descendante                \n",
       "2 Nuageux                             \n",
       "3 Argile / Vaseux                     \n",
       "4 Nuageux                             \n",
       "5 5                    km/h           \n",
       "6 25                   °C             "
      ]
     },
     "metadata": {},
     "output_type": "display_data"
    }
   ],
   "source": [
    "url <-'https://catalogue.ogsl.ca/data/zip-rne/3b8c6d97-6eb8-4e8d-9869-ccb2b9bab5f3/zip-rne_marais-pf_event_2019-2021.csv'\n",
    "event_raw <- read.csv(url)\n",
    "\n",
    "url <-'https://catalogue.ogsl.ca/data/zip-rne/3b8c6d97-6eb8-4e8d-9869-ccb2b9bab5f3/zip-rne_marais-pf_occurrence_2019-2021.csv'\n",
    "occurrence_raw <- read.csv(url)\n",
    "\n",
    "url <-'https://catalogue.ogsl.ca/data/zip-rne/3b8c6d97-6eb8-4e8d-9869-ccb2b9bab5f3/zip-rne_marais-pf_event_emof_2019-2021.csv'\n",
    "emof_event_raw <- read.csv(url)\n",
    "\n",
    "url <-'https://catalogue.ogsl.ca/data/zip-rne/3b8c6d97-6eb8-4e8d-9869-ccb2b9bab5f3/zip-rne_marais-pf_occurrence_emof_2019-2021.csv'\n",
    "emof_occurrence_raw <- read.csv(url)\n",
    "\n",
    "head(event_raw)\n",
    "head(emof_event_raw)"
   ]
  },
  {
   "attachments": {},
   "cell_type": "markdown",
   "metadata": {},
   "source": [
    "On veut obtenir dans un même fichier : les coordonnées où on eu lieu les occurrences, le nombre d'individus et les conditions physico-chimiques mesurées lors de l'observation des espèces.\n",
    "Dans l'ensemble des archives Dwc qui sont des fichiers relationnels, le point commun est la colonne **eventID**. La colonne **occurrenceID** permet également d'établir les relations entres les paramètres et les occurrences.\n",
    "\n",
    "## Transformation des données\n",
    "\n",
    "Afin d'alléger la lecture de la table finale, supprimons quelques colonnes non utilisées dans les fichiers *event* et *occurrence core*."
   ]
  },
  {
   "cell_type": "code",
   "execution_count": 3,
   "metadata": {},
   "outputs": [],
   "source": [
    "event <- event_raw %>% select(eventID,eventDate, decimalLongitude, decimalLatitude)\n",
    "occurrence <- occurrence_raw %>% select(eventID, occurrenceID, kingdom, ScientificName)\n"
   ]
  },
  {
   "attachments": {},
   "cell_type": "markdown",
   "metadata": {},
   "source": [
    "On peut désormais grouper ses deux fichiers ensemble :"
   ]
  },
  {
   "cell_type": "code",
   "execution_count": 4,
   "metadata": {},
   "outputs": [
    {
     "name": "stdout",
     "output_type": "stream",
     "text": [
      "'data.frame':\t1667 obs. of  7 variables:\n",
      " $ eventID         : chr  \"CZIP-RNE-PF-2019-B1-22\" \"CZIP-RNE-PF-2019-B2-16\" \"CZIP-RNE-PF-2019-B2-16\" \"CZIP-RNE-PF-2019-B2-20\" ...\n",
      " $ eventDate       : chr  \"2019-08-28T09:42\" \"2019-08-27T17:52\" \"2019-08-27T17:52\" \"2019-08-28T08:21\" ...\n",
      " $ decimalLongitude: num  -69.1 -69.1 -69.1 -69.1 -69.1 ...\n",
      " $ decimalLatitude : num  48.6 48.6 48.6 48.6 48.6 ...\n",
      " $ occurrenceID    : chr  \"CZIP-RNE-PF-2019-ICHTYO-B1-OCC-34\" \"CZIP-RNE-PF-2019-ICHTYO-B2-OCC-24\" \"CZIP-RNE-PF-2019-ICHTYO-B2-OCC-25\" \"CZIP-RNE-PF-2019-ICHTYO-B2-OCC-31\" ...\n",
      " $ kingdom         : chr  \"Animalia\" \"Animalia\" \"Animalia\" \"Animalia\" ...\n",
      " $ ScientificName  : chr  \"Pungitius pungitius\" \"Gasterosteus aculeatus\" \"Pungitius pungitius\" \"Gasterosteus aculeatus\" ...\n"
     ]
    }
   ],
   "source": [
    "data_core <- merge(event,occurrence, by='eventID')\n",
    "str(data_core)\n"
   ]
  },
  {
   "attachments": {},
   "cell_type": "markdown",
   "metadata": {},
   "source": [
    "Ensuite on s'intéresse aux fichiers *emof* afin d'extraire les variables d'intérêt. \n",
    "Ces fichiers nécessitent une transformation supplémentaire. Si on observe les fichiers *emof* : "
   ]
  },
  {
   "cell_type": "code",
   "execution_count": 5,
   "metadata": {},
   "outputs": [
    {
     "data": {
      "text/html": [
       "<table class=\"dataframe\">\n",
       "<caption>A data.frame: 6 × 8</caption>\n",
       "<thead>\n",
       "\t<tr><th></th><th scope=col>eventID</th><th scope=col>occurrenceID</th><th scope=col>measurementID</th><th scope=col>materialSampleID</th><th scope=col>measurementType</th><th scope=col>measurementValue</th><th scope=col>measurementUnit</th><th scope=col>X</th></tr>\n",
       "\t<tr><th></th><th scope=col>&lt;chr&gt;</th><th scope=col>&lt;chr&gt;</th><th scope=col>&lt;chr&gt;</th><th scope=col>&lt;chr&gt;</th><th scope=col>&lt;chr&gt;</th><th scope=col>&lt;chr&gt;</th><th scope=col>&lt;chr&gt;</th><th scope=col>&lt;chr&gt;</th></tr>\n",
       "</thead>\n",
       "<tbody>\n",
       "\t<tr><th scope=row>1</th><td>CZIP-RNE-PF-2019-B1-22</td><td>CZIP-RNE-PF-2019-ICHTYO-B1-OCC-34</td><td>CZIP-RNE-2019-COUNT-B1:34</td><td>      </td><td>Individual count</td><td>1  </td><td>  </td><td></td></tr>\n",
       "\t<tr><th scope=row>2</th><td>CZIP-RNE-PF-2019-B1-22</td><td>CZIP-RNE-PF-2019-ICHTYO-B1-OCC-34</td><td>CZIP-RNE-2019-LT-B1:600  </td><td>B1:600</td><td>Longueur        </td><td>24 </td><td>mm</td><td></td></tr>\n",
       "\t<tr><th scope=row>3</th><td>CZIP-RNE-PF-2019-B2-16</td><td>CZIP-RNE-PF-2019-ICHTYO-B2-OCC-24</td><td>CZIP-RNE-2019-COUNT-B2:24</td><td>      </td><td>Individual count</td><td>10 </td><td>  </td><td></td></tr>\n",
       "\t<tr><th scope=row>4</th><td>CZIP-RNE-PF-2019-B2-16</td><td>CZIP-RNE-PF-2019-ICHTYO-B2-OCC-25</td><td>CZIP-RNE-2019-COUNT-B2:25</td><td>      </td><td>Individual count</td><td>327</td><td>  </td><td></td></tr>\n",
       "\t<tr><th scope=row>5</th><td>CZIP-RNE-PF-2019-B2-16</td><td>CZIP-RNE-PF-2019-ICHTYO-B2-OCC-25</td><td>CZIP-RNE-2019-LT-B2:421  </td><td>B2:421</td><td>Longueur        </td><td>36 </td><td>mm</td><td></td></tr>\n",
       "\t<tr><th scope=row>6</th><td>CZIP-RNE-PF-2019-B2-16</td><td>CZIP-RNE-PF-2019-ICHTYO-B2-OCC-25</td><td>CZIP-RNE-2019-LT-B2:422  </td><td>B2:422</td><td>Longueur        </td><td>42 </td><td>mm</td><td></td></tr>\n",
       "</tbody>\n",
       "</table>\n"
      ],
      "text/latex": [
       "A data.frame: 6 × 8\n",
       "\\begin{tabular}{r|llllllll}\n",
       "  & eventID & occurrenceID & measurementID & materialSampleID & measurementType & measurementValue & measurementUnit & X\\\\\n",
       "  & <chr> & <chr> & <chr> & <chr> & <chr> & <chr> & <chr> & <chr>\\\\\n",
       "\\hline\n",
       "\t1 & CZIP-RNE-PF-2019-B1-22 & CZIP-RNE-PF-2019-ICHTYO-B1-OCC-34 & CZIP-RNE-2019-COUNT-B1:34 &        & Individual count & 1   &    & \\\\\n",
       "\t2 & CZIP-RNE-PF-2019-B1-22 & CZIP-RNE-PF-2019-ICHTYO-B1-OCC-34 & CZIP-RNE-2019-LT-B1:600   & B1:600 & Longueur         & 24  & mm & \\\\\n",
       "\t3 & CZIP-RNE-PF-2019-B2-16 & CZIP-RNE-PF-2019-ICHTYO-B2-OCC-24 & CZIP-RNE-2019-COUNT-B2:24 &        & Individual count & 10  &    & \\\\\n",
       "\t4 & CZIP-RNE-PF-2019-B2-16 & CZIP-RNE-PF-2019-ICHTYO-B2-OCC-25 & CZIP-RNE-2019-COUNT-B2:25 &        & Individual count & 327 &    & \\\\\n",
       "\t5 & CZIP-RNE-PF-2019-B2-16 & CZIP-RNE-PF-2019-ICHTYO-B2-OCC-25 & CZIP-RNE-2019-LT-B2:421   & B2:421 & Longueur         & 36  & mm & \\\\\n",
       "\t6 & CZIP-RNE-PF-2019-B2-16 & CZIP-RNE-PF-2019-ICHTYO-B2-OCC-25 & CZIP-RNE-2019-LT-B2:422   & B2:422 & Longueur         & 42  & mm & \\\\\n",
       "\\end{tabular}\n"
      ],
      "text/markdown": [
       "\n",
       "A data.frame: 6 × 8\n",
       "\n",
       "| <!--/--> | eventID &lt;chr&gt; | occurrenceID &lt;chr&gt; | measurementID &lt;chr&gt; | materialSampleID &lt;chr&gt; | measurementType &lt;chr&gt; | measurementValue &lt;chr&gt; | measurementUnit &lt;chr&gt; | X &lt;chr&gt; |\n",
       "|---|---|---|---|---|---|---|---|---|\n",
       "| 1 | CZIP-RNE-PF-2019-B1-22 | CZIP-RNE-PF-2019-ICHTYO-B1-OCC-34 | CZIP-RNE-2019-COUNT-B1:34 | <!----> | Individual count | 1   | <!----> | <!----> |\n",
       "| 2 | CZIP-RNE-PF-2019-B1-22 | CZIP-RNE-PF-2019-ICHTYO-B1-OCC-34 | CZIP-RNE-2019-LT-B1:600   | B1:600 | Longueur         | 24  | mm | <!----> |\n",
       "| 3 | CZIP-RNE-PF-2019-B2-16 | CZIP-RNE-PF-2019-ICHTYO-B2-OCC-24 | CZIP-RNE-2019-COUNT-B2:24 | <!----> | Individual count | 10  | <!----> | <!----> |\n",
       "| 4 | CZIP-RNE-PF-2019-B2-16 | CZIP-RNE-PF-2019-ICHTYO-B2-OCC-25 | CZIP-RNE-2019-COUNT-B2:25 | <!----> | Individual count | 327 | <!----> | <!----> |\n",
       "| 5 | CZIP-RNE-PF-2019-B2-16 | CZIP-RNE-PF-2019-ICHTYO-B2-OCC-25 | CZIP-RNE-2019-LT-B2:421   | B2:421 | Longueur         | 36  | mm | <!----> |\n",
       "| 6 | CZIP-RNE-PF-2019-B2-16 | CZIP-RNE-PF-2019-ICHTYO-B2-OCC-25 | CZIP-RNE-2019-LT-B2:422   | B2:422 | Longueur         | 42  | mm | <!----> |\n",
       "\n"
      ],
      "text/plain": [
       "  eventID                occurrenceID                     \n",
       "1 CZIP-RNE-PF-2019-B1-22 CZIP-RNE-PF-2019-ICHTYO-B1-OCC-34\n",
       "2 CZIP-RNE-PF-2019-B1-22 CZIP-RNE-PF-2019-ICHTYO-B1-OCC-34\n",
       "3 CZIP-RNE-PF-2019-B2-16 CZIP-RNE-PF-2019-ICHTYO-B2-OCC-24\n",
       "4 CZIP-RNE-PF-2019-B2-16 CZIP-RNE-PF-2019-ICHTYO-B2-OCC-25\n",
       "5 CZIP-RNE-PF-2019-B2-16 CZIP-RNE-PF-2019-ICHTYO-B2-OCC-25\n",
       "6 CZIP-RNE-PF-2019-B2-16 CZIP-RNE-PF-2019-ICHTYO-B2-OCC-25\n",
       "  measurementID             materialSampleID measurementType  measurementValue\n",
       "1 CZIP-RNE-2019-COUNT-B1:34                  Individual count 1               \n",
       "2 CZIP-RNE-2019-LT-B1:600   B1:600           Longueur         24              \n",
       "3 CZIP-RNE-2019-COUNT-B2:24                  Individual count 10              \n",
       "4 CZIP-RNE-2019-COUNT-B2:25                  Individual count 327             \n",
       "5 CZIP-RNE-2019-LT-B2:421   B2:421           Longueur         36              \n",
       "6 CZIP-RNE-2019-LT-B2:422   B2:422           Longueur         42              \n",
       "  measurementUnit X\n",
       "1                  \n",
       "2 mm               \n",
       "3                  \n",
       "4                  \n",
       "5 mm               \n",
       "6 mm               "
      ]
     },
     "metadata": {},
     "output_type": "display_data"
    }
   ],
   "source": [
    "head(emof_occurrence_raw)"
   ]
  },
  {
   "attachments": {},
   "cell_type": "markdown",
   "metadata": {},
   "source": [
    "On remarque que la colonne ***MeasurementType*** contient plusieurs variables. \n",
    "On veut obtenir le nombre d'individus du fichier *emof_occurrence* et la salinité, l'oxygène dissout (%) et le pH présent dans le fichier *emof_event*."
   ]
  },
  {
   "cell_type": "code",
   "execution_count": 6,
   "metadata": {},
   "outputs": [
    {
     "data": {
      "text/html": [
       "<table class=\"dataframe\">\n",
       "<caption>A data.frame: 6 × 3</caption>\n",
       "<thead>\n",
       "\t<tr><th></th><th scope=col>eventID</th><th scope=col>occurrenceID</th><th scope=col>Individual count</th></tr>\n",
       "\t<tr><th></th><th scope=col>&lt;chr&gt;</th><th scope=col>&lt;chr&gt;</th><th scope=col>&lt;chr&gt;</th></tr>\n",
       "</thead>\n",
       "<tbody>\n",
       "\t<tr><th scope=row>1</th><td>CZIP-RNE-PF-2019-B1-22</td><td>CZIP-RNE-PF-2019-ICHTYO-B1-OCC-34</td><td>1  </td></tr>\n",
       "\t<tr><th scope=row>2</th><td>CZIP-RNE-PF-2019-B2-16</td><td>CZIP-RNE-PF-2019-ICHTYO-B2-OCC-24</td><td>10 </td></tr>\n",
       "\t<tr><th scope=row>3</th><td>CZIP-RNE-PF-2019-B2-16</td><td>CZIP-RNE-PF-2019-ICHTYO-B2-OCC-25</td><td>327</td></tr>\n",
       "\t<tr><th scope=row>4</th><td>CZIP-RNE-PF-2019-B2-20</td><td>CZIP-RNE-PF-2019-ICHTYO-B2-OCC-31</td><td>2  </td></tr>\n",
       "\t<tr><th scope=row>5</th><td>CZIP-RNE-PF-2019-B2-20</td><td>CZIP-RNE-PF-2019-ICHTYO-B2-OCC-32</td><td>91 </td></tr>\n",
       "\t<tr><th scope=row>6</th><td>CZIP-RNE-PF-2019-B2-26</td><td>CZIP-RNE-PF-2019-ICHTYO-B2-OCC-35</td><td>24 </td></tr>\n",
       "</tbody>\n",
       "</table>\n"
      ],
      "text/latex": [
       "A data.frame: 6 × 3\n",
       "\\begin{tabular}{r|lll}\n",
       "  & eventID & occurrenceID & Individual count\\\\\n",
       "  & <chr> & <chr> & <chr>\\\\\n",
       "\\hline\n",
       "\t1 & CZIP-RNE-PF-2019-B1-22 & CZIP-RNE-PF-2019-ICHTYO-B1-OCC-34 & 1  \\\\\n",
       "\t2 & CZIP-RNE-PF-2019-B2-16 & CZIP-RNE-PF-2019-ICHTYO-B2-OCC-24 & 10 \\\\\n",
       "\t3 & CZIP-RNE-PF-2019-B2-16 & CZIP-RNE-PF-2019-ICHTYO-B2-OCC-25 & 327\\\\\n",
       "\t4 & CZIP-RNE-PF-2019-B2-20 & CZIP-RNE-PF-2019-ICHTYO-B2-OCC-31 & 2  \\\\\n",
       "\t5 & CZIP-RNE-PF-2019-B2-20 & CZIP-RNE-PF-2019-ICHTYO-B2-OCC-32 & 91 \\\\\n",
       "\t6 & CZIP-RNE-PF-2019-B2-26 & CZIP-RNE-PF-2019-ICHTYO-B2-OCC-35 & 24 \\\\\n",
       "\\end{tabular}\n"
      ],
      "text/markdown": [
       "\n",
       "A data.frame: 6 × 3\n",
       "\n",
       "| <!--/--> | eventID &lt;chr&gt; | occurrenceID &lt;chr&gt; | Individual count &lt;chr&gt; |\n",
       "|---|---|---|---|\n",
       "| 1 | CZIP-RNE-PF-2019-B1-22 | CZIP-RNE-PF-2019-ICHTYO-B1-OCC-34 | 1   |\n",
       "| 2 | CZIP-RNE-PF-2019-B2-16 | CZIP-RNE-PF-2019-ICHTYO-B2-OCC-24 | 10  |\n",
       "| 3 | CZIP-RNE-PF-2019-B2-16 | CZIP-RNE-PF-2019-ICHTYO-B2-OCC-25 | 327 |\n",
       "| 4 | CZIP-RNE-PF-2019-B2-20 | CZIP-RNE-PF-2019-ICHTYO-B2-OCC-31 | 2   |\n",
       "| 5 | CZIP-RNE-PF-2019-B2-20 | CZIP-RNE-PF-2019-ICHTYO-B2-OCC-32 | 91  |\n",
       "| 6 | CZIP-RNE-PF-2019-B2-26 | CZIP-RNE-PF-2019-ICHTYO-B2-OCC-35 | 24  |\n",
       "\n"
      ],
      "text/plain": [
       "  eventID                occurrenceID                      Individual count\n",
       "1 CZIP-RNE-PF-2019-B1-22 CZIP-RNE-PF-2019-ICHTYO-B1-OCC-34 1               \n",
       "2 CZIP-RNE-PF-2019-B2-16 CZIP-RNE-PF-2019-ICHTYO-B2-OCC-24 10              \n",
       "3 CZIP-RNE-PF-2019-B2-16 CZIP-RNE-PF-2019-ICHTYO-B2-OCC-25 327             \n",
       "4 CZIP-RNE-PF-2019-B2-20 CZIP-RNE-PF-2019-ICHTYO-B2-OCC-31 2               \n",
       "5 CZIP-RNE-PF-2019-B2-20 CZIP-RNE-PF-2019-ICHTYO-B2-OCC-32 91              \n",
       "6 CZIP-RNE-PF-2019-B2-26 CZIP-RNE-PF-2019-ICHTYO-B2-OCC-35 24              "
      ]
     },
     "metadata": {},
     "output_type": "display_data"
    },
    {
     "data": {
      "text/html": [
       "<table class=\"dataframe\">\n",
       "<caption>A grouped_df: 6 × 4</caption>\n",
       "<thead>\n",
       "\t<tr><th scope=col>eventID</th><th scope=col>Oxygène dissout</th><th scope=col>pH</th><th scope=col>Salinité</th></tr>\n",
       "\t<tr><th scope=col>&lt;chr&gt;</th><th scope=col>&lt;chr&gt;</th><th scope=col>&lt;chr&gt;</th><th scope=col>&lt;chr&gt;</th></tr>\n",
       "</thead>\n",
       "<tbody>\n",
       "\t<tr><td>CZIP-RNE-PF-2019-B1-1 </td><td>99.3 </td><td>8.51</td><td>25.6 </td></tr>\n",
       "\t<tr><td>CZIP-RNE-PF-2019-B1-15</td><td>116.4</td><td>8.06</td><td>26.02</td></tr>\n",
       "\t<tr><td>CZIP-RNE-PF-2019-B1-22</td><td>79.6 </td><td>7.92</td><td>26.79</td></tr>\n",
       "\t<tr><td>CZIP-RNE-PF-2019-B1-25</td><td>111  </td><td>8.33</td><td>26.7 </td></tr>\n",
       "\t<tr><td>CZIP-RNE-PF-2019-B1-34</td><td>73.3 </td><td>7.2 </td><td>25.65</td></tr>\n",
       "\t<tr><td>CZIP-RNE-PF-2019-B1-39</td><td>118.2</td><td>8.05</td><td>26.95</td></tr>\n",
       "</tbody>\n",
       "</table>\n"
      ],
      "text/latex": [
       "A grouped\\_df: 6 × 4\n",
       "\\begin{tabular}{llll}\n",
       " eventID & Oxygène dissout & pH & Salinité\\\\\n",
       " <chr> & <chr> & <chr> & <chr>\\\\\n",
       "\\hline\n",
       "\t CZIP-RNE-PF-2019-B1-1  & 99.3  & 8.51 & 25.6 \\\\\n",
       "\t CZIP-RNE-PF-2019-B1-15 & 116.4 & 8.06 & 26.02\\\\\n",
       "\t CZIP-RNE-PF-2019-B1-22 & 79.6  & 7.92 & 26.79\\\\\n",
       "\t CZIP-RNE-PF-2019-B1-25 & 111   & 8.33 & 26.7 \\\\\n",
       "\t CZIP-RNE-PF-2019-B1-34 & 73.3  & 7.2  & 25.65\\\\\n",
       "\t CZIP-RNE-PF-2019-B1-39 & 118.2 & 8.05 & 26.95\\\\\n",
       "\\end{tabular}\n"
      ],
      "text/markdown": [
       "\n",
       "A grouped_df: 6 × 4\n",
       "\n",
       "| eventID &lt;chr&gt; | Oxygène dissout &lt;chr&gt; | pH &lt;chr&gt; | Salinité &lt;chr&gt; |\n",
       "|---|---|---|---|\n",
       "| CZIP-RNE-PF-2019-B1-1  | 99.3  | 8.51 | 25.6  |\n",
       "| CZIP-RNE-PF-2019-B1-15 | 116.4 | 8.06 | 26.02 |\n",
       "| CZIP-RNE-PF-2019-B1-22 | 79.6  | 7.92 | 26.79 |\n",
       "| CZIP-RNE-PF-2019-B1-25 | 111   | 8.33 | 26.7  |\n",
       "| CZIP-RNE-PF-2019-B1-34 | 73.3  | 7.2  | 25.65 |\n",
       "| CZIP-RNE-PF-2019-B1-39 | 118.2 | 8.05 | 26.95 |\n",
       "\n"
      ],
      "text/plain": [
       "  eventID                Oxygène dissout pH   Salinité\n",
       "1 CZIP-RNE-PF-2019-B1-1  99.3            8.51 25.6    \n",
       "2 CZIP-RNE-PF-2019-B1-15 116.4           8.06 26.02   \n",
       "3 CZIP-RNE-PF-2019-B1-22 79.6            7.92 26.79   \n",
       "4 CZIP-RNE-PF-2019-B1-25 111             8.33 26.7    \n",
       "5 CZIP-RNE-PF-2019-B1-34 73.3            7.2  25.65   \n",
       "6 CZIP-RNE-PF-2019-B1-39 118.2           8.05 26.95   "
      ]
     },
     "metadata": {},
     "output_type": "display_data"
    }
   ],
   "source": [
    "emof_occurrence <- emof_occurrence_raw%>%\n",
    "    select(eventID, occurrenceID, measurementType, measurementValue)%>%\n",
    "    filter(measurementType == 'Individual count') %>%\n",
    "    spread(measurementType, measurementValue)\n",
    "head(emof_occurrence)\n",
    "\n",
    "emof_event <- emof_event_raw%>%\n",
    "    select(eventID,measurementType, measurementValue, measurementUnit)%>%\n",
    "    filter(measurementType %in% c(\"Oxygène dissout\", \"Salinité\", \"pH\"), measurementUnit %in% c(\"psu\", \"\", \"%\")) %>%\n",
    "    select(-c(measurementUnit)) %>%\n",
    "    group_by(eventID) %>%\n",
    "    spread(measurementType, measurementValue)\n",
    "head(emof_event)\n"
   ]
  },
  {
   "attachments": {},
   "cell_type": "markdown",
   "metadata": {},
   "source": [
    "A partir de là on peut désormais combiner l'ensemble des fichiers, les colonne ***eventID*** et ***occurrenceID*** faisant office de 'clé'."
   ]
  },
  {
   "cell_type": "code",
   "execution_count": 7,
   "metadata": {},
   "outputs": [
    {
     "data": {
      "text/html": [
       "<table class=\"dataframe\">\n",
       "<caption>A data.frame: 6 × 6</caption>\n",
       "<thead>\n",
       "\t<tr><th></th><th scope=col>eventID</th><th scope=col>Oxygène dissout</th><th scope=col>pH</th><th scope=col>Salinité</th><th scope=col>occurrenceID</th><th scope=col>Individual count</th></tr>\n",
       "\t<tr><th></th><th scope=col>&lt;chr&gt;</th><th scope=col>&lt;chr&gt;</th><th scope=col>&lt;chr&gt;</th><th scope=col>&lt;chr&gt;</th><th scope=col>&lt;chr&gt;</th><th scope=col>&lt;chr&gt;</th></tr>\n",
       "</thead>\n",
       "<tbody>\n",
       "\t<tr><th scope=row>1</th><td>CZIP-RNE-PF-2019-B1-22</td><td>79.6</td><td>7.92</td><td>26.79</td><td>CZIP-RNE-PF-2019-ICHTYO-B1-OCC-34</td><td>1  </td></tr>\n",
       "\t<tr><th scope=row>2</th><td>CZIP-RNE-PF-2019-B2-16</td><td>97.7</td><td>7.2 </td><td>23.41</td><td>CZIP-RNE-PF-2019-ICHTYO-B2-OCC-24</td><td>10 </td></tr>\n",
       "\t<tr><th scope=row>3</th><td>CZIP-RNE-PF-2019-B2-16</td><td>97.7</td><td>7.2 </td><td>23.41</td><td>CZIP-RNE-PF-2019-ICHTYO-B2-OCC-25</td><td>327</td></tr>\n",
       "\t<tr><th scope=row>4</th><td>CZIP-RNE-PF-2019-B2-20</td><td>96.9</td><td>7.15</td><td>25.5 </td><td>CZIP-RNE-PF-2019-ICHTYO-B2-OCC-31</td><td>2  </td></tr>\n",
       "\t<tr><th scope=row>5</th><td>CZIP-RNE-PF-2019-B2-20</td><td>96.9</td><td>7.15</td><td>25.5 </td><td>CZIP-RNE-PF-2019-ICHTYO-B2-OCC-32</td><td>91 </td></tr>\n",
       "\t<tr><th scope=row>6</th><td>CZIP-RNE-PF-2019-B2-26</td><td>95.3</td><td>7.29</td><td>24.77</td><td>CZIP-RNE-PF-2019-ICHTYO-B2-OCC-36</td><td>236</td></tr>\n",
       "</tbody>\n",
       "</table>\n"
      ],
      "text/latex": [
       "A data.frame: 6 × 6\n",
       "\\begin{tabular}{r|llllll}\n",
       "  & eventID & Oxygène dissout & pH & Salinité & occurrenceID & Individual count\\\\\n",
       "  & <chr> & <chr> & <chr> & <chr> & <chr> & <chr>\\\\\n",
       "\\hline\n",
       "\t1 & CZIP-RNE-PF-2019-B1-22 & 79.6 & 7.92 & 26.79 & CZIP-RNE-PF-2019-ICHTYO-B1-OCC-34 & 1  \\\\\n",
       "\t2 & CZIP-RNE-PF-2019-B2-16 & 97.7 & 7.2  & 23.41 & CZIP-RNE-PF-2019-ICHTYO-B2-OCC-24 & 10 \\\\\n",
       "\t3 & CZIP-RNE-PF-2019-B2-16 & 97.7 & 7.2  & 23.41 & CZIP-RNE-PF-2019-ICHTYO-B2-OCC-25 & 327\\\\\n",
       "\t4 & CZIP-RNE-PF-2019-B2-20 & 96.9 & 7.15 & 25.5  & CZIP-RNE-PF-2019-ICHTYO-B2-OCC-31 & 2  \\\\\n",
       "\t5 & CZIP-RNE-PF-2019-B2-20 & 96.9 & 7.15 & 25.5  & CZIP-RNE-PF-2019-ICHTYO-B2-OCC-32 & 91 \\\\\n",
       "\t6 & CZIP-RNE-PF-2019-B2-26 & 95.3 & 7.29 & 24.77 & CZIP-RNE-PF-2019-ICHTYO-B2-OCC-36 & 236\\\\\n",
       "\\end{tabular}\n"
      ],
      "text/markdown": [
       "\n",
       "A data.frame: 6 × 6\n",
       "\n",
       "| <!--/--> | eventID &lt;chr&gt; | Oxygène dissout &lt;chr&gt; | pH &lt;chr&gt; | Salinité &lt;chr&gt; | occurrenceID &lt;chr&gt; | Individual count &lt;chr&gt; |\n",
       "|---|---|---|---|---|---|---|\n",
       "| 1 | CZIP-RNE-PF-2019-B1-22 | 79.6 | 7.92 | 26.79 | CZIP-RNE-PF-2019-ICHTYO-B1-OCC-34 | 1   |\n",
       "| 2 | CZIP-RNE-PF-2019-B2-16 | 97.7 | 7.2  | 23.41 | CZIP-RNE-PF-2019-ICHTYO-B2-OCC-24 | 10  |\n",
       "| 3 | CZIP-RNE-PF-2019-B2-16 | 97.7 | 7.2  | 23.41 | CZIP-RNE-PF-2019-ICHTYO-B2-OCC-25 | 327 |\n",
       "| 4 | CZIP-RNE-PF-2019-B2-20 | 96.9 | 7.15 | 25.5  | CZIP-RNE-PF-2019-ICHTYO-B2-OCC-31 | 2   |\n",
       "| 5 | CZIP-RNE-PF-2019-B2-20 | 96.9 | 7.15 | 25.5  | CZIP-RNE-PF-2019-ICHTYO-B2-OCC-32 | 91  |\n",
       "| 6 | CZIP-RNE-PF-2019-B2-26 | 95.3 | 7.29 | 24.77 | CZIP-RNE-PF-2019-ICHTYO-B2-OCC-36 | 236 |\n",
       "\n"
      ],
      "text/plain": [
       "  eventID                Oxygène dissout pH   Salinité\n",
       "1 CZIP-RNE-PF-2019-B1-22 79.6            7.92 26.79   \n",
       "2 CZIP-RNE-PF-2019-B2-16 97.7            7.2  23.41   \n",
       "3 CZIP-RNE-PF-2019-B2-16 97.7            7.2  23.41   \n",
       "4 CZIP-RNE-PF-2019-B2-20 96.9            7.15 25.5    \n",
       "5 CZIP-RNE-PF-2019-B2-20 96.9            7.15 25.5    \n",
       "6 CZIP-RNE-PF-2019-B2-26 95.3            7.29 24.77   \n",
       "  occurrenceID                      Individual count\n",
       "1 CZIP-RNE-PF-2019-ICHTYO-B1-OCC-34 1               \n",
       "2 CZIP-RNE-PF-2019-ICHTYO-B2-OCC-24 10              \n",
       "3 CZIP-RNE-PF-2019-ICHTYO-B2-OCC-25 327             \n",
       "4 CZIP-RNE-PF-2019-ICHTYO-B2-OCC-31 2               \n",
       "5 CZIP-RNE-PF-2019-ICHTYO-B2-OCC-32 91              \n",
       "6 CZIP-RNE-PF-2019-ICHTYO-B2-OCC-36 236             "
      ]
     },
     "metadata": {},
     "output_type": "display_data"
    }
   ],
   "source": [
    "emof <- merge(emof_event, emof_occurrence, by='eventID')\n",
    "head(emof)"
   ]
  },
  {
   "cell_type": "code",
   "execution_count": 8,
   "metadata": {},
   "outputs": [
    {
     "data": {
      "text/html": [
       "<table class=\"dataframe\">\n",
       "<caption>A data.frame: 6 × 11</caption>\n",
       "<thead>\n",
       "\t<tr><th></th><th scope=col>eventID</th><th scope=col>occurrenceID</th><th scope=col>eventDate</th><th scope=col>decimalLongitude</th><th scope=col>decimalLatitude</th><th scope=col>kingdom</th><th scope=col>ScientificName</th><th scope=col>Oxygène dissout</th><th scope=col>pH</th><th scope=col>Salinité</th><th scope=col>Individual count</th></tr>\n",
       "\t<tr><th></th><th scope=col>&lt;chr&gt;</th><th scope=col>&lt;chr&gt;</th><th scope=col>&lt;chr&gt;</th><th scope=col>&lt;dbl&gt;</th><th scope=col>&lt;dbl&gt;</th><th scope=col>&lt;chr&gt;</th><th scope=col>&lt;chr&gt;</th><th scope=col>&lt;chr&gt;</th><th scope=col>&lt;chr&gt;</th><th scope=col>&lt;chr&gt;</th><th scope=col>&lt;chr&gt;</th></tr>\n",
       "</thead>\n",
       "<tbody>\n",
       "\t<tr><th scope=row>1</th><td>CZIP-RNE-PF-2019-B1-22</td><td>CZIP-RNE-PF-2019-ICHTYO-B1-OCC-34</td><td>2019-08-28T09:42</td><td>-69.09246</td><td>48.64362</td><td>Animalia</td><td>Pungitius pungitius   </td><td>79.6</td><td>7.92</td><td>26.79</td><td>1  </td></tr>\n",
       "\t<tr><th scope=row>2</th><td>CZIP-RNE-PF-2019-B2-16</td><td>CZIP-RNE-PF-2019-ICHTYO-B2-OCC-24</td><td>2019-08-27T17:52</td><td>-69.08810</td><td>48.64101</td><td>Animalia</td><td>Gasterosteus aculeatus</td><td>97.7</td><td>7.2 </td><td>23.41</td><td>10 </td></tr>\n",
       "\t<tr><th scope=row>3</th><td>CZIP-RNE-PF-2019-B2-16</td><td>CZIP-RNE-PF-2019-ICHTYO-B2-OCC-25</td><td>2019-08-27T17:52</td><td>-69.08810</td><td>48.64101</td><td>Animalia</td><td>Pungitius pungitius   </td><td>97.7</td><td>7.2 </td><td>23.41</td><td>327</td></tr>\n",
       "\t<tr><th scope=row>4</th><td>CZIP-RNE-PF-2019-B2-20</td><td>CZIP-RNE-PF-2019-ICHTYO-B2-OCC-31</td><td>2019-08-28T08:21</td><td>-69.08810</td><td>48.64101</td><td>Animalia</td><td>Gasterosteus aculeatus</td><td>96.9</td><td>7.15</td><td>25.5 </td><td>2  </td></tr>\n",
       "\t<tr><th scope=row>5</th><td>CZIP-RNE-PF-2019-B2-20</td><td>CZIP-RNE-PF-2019-ICHTYO-B2-OCC-32</td><td>2019-08-28T08:21</td><td>-69.08810</td><td>48.64101</td><td>Animalia</td><td>Pungitius pungitius   </td><td>96.9</td><td>7.15</td><td>25.5 </td><td>91 </td></tr>\n",
       "\t<tr><th scope=row>6</th><td>CZIP-RNE-PF-2019-B2-26</td><td>CZIP-RNE-PF-2019-ICHTYO-B2-OCC-35</td><td>2019-08-28T16:55</td><td>-69.08810</td><td>48.64101</td><td>Animalia</td><td>Gasterosteus aculeatus</td><td>95.3</td><td>7.29</td><td>24.77</td><td>24 </td></tr>\n",
       "</tbody>\n",
       "</table>\n"
      ],
      "text/latex": [
       "A data.frame: 6 × 11\n",
       "\\begin{tabular}{r|lllllllllll}\n",
       "  & eventID & occurrenceID & eventDate & decimalLongitude & decimalLatitude & kingdom & ScientificName & Oxygène dissout & pH & Salinité & Individual count\\\\\n",
       "  & <chr> & <chr> & <chr> & <dbl> & <dbl> & <chr> & <chr> & <chr> & <chr> & <chr> & <chr>\\\\\n",
       "\\hline\n",
       "\t1 & CZIP-RNE-PF-2019-B1-22 & CZIP-RNE-PF-2019-ICHTYO-B1-OCC-34 & 2019-08-28T09:42 & -69.09246 & 48.64362 & Animalia & Pungitius pungitius    & 79.6 & 7.92 & 26.79 & 1  \\\\\n",
       "\t2 & CZIP-RNE-PF-2019-B2-16 & CZIP-RNE-PF-2019-ICHTYO-B2-OCC-24 & 2019-08-27T17:52 & -69.08810 & 48.64101 & Animalia & Gasterosteus aculeatus & 97.7 & 7.2  & 23.41 & 10 \\\\\n",
       "\t3 & CZIP-RNE-PF-2019-B2-16 & CZIP-RNE-PF-2019-ICHTYO-B2-OCC-25 & 2019-08-27T17:52 & -69.08810 & 48.64101 & Animalia & Pungitius pungitius    & 97.7 & 7.2  & 23.41 & 327\\\\\n",
       "\t4 & CZIP-RNE-PF-2019-B2-20 & CZIP-RNE-PF-2019-ICHTYO-B2-OCC-31 & 2019-08-28T08:21 & -69.08810 & 48.64101 & Animalia & Gasterosteus aculeatus & 96.9 & 7.15 & 25.5  & 2  \\\\\n",
       "\t5 & CZIP-RNE-PF-2019-B2-20 & CZIP-RNE-PF-2019-ICHTYO-B2-OCC-32 & 2019-08-28T08:21 & -69.08810 & 48.64101 & Animalia & Pungitius pungitius    & 96.9 & 7.15 & 25.5  & 91 \\\\\n",
       "\t6 & CZIP-RNE-PF-2019-B2-26 & CZIP-RNE-PF-2019-ICHTYO-B2-OCC-35 & 2019-08-28T16:55 & -69.08810 & 48.64101 & Animalia & Gasterosteus aculeatus & 95.3 & 7.29 & 24.77 & 24 \\\\\n",
       "\\end{tabular}\n"
      ],
      "text/markdown": [
       "\n",
       "A data.frame: 6 × 11\n",
       "\n",
       "| <!--/--> | eventID &lt;chr&gt; | occurrenceID &lt;chr&gt; | eventDate &lt;chr&gt; | decimalLongitude &lt;dbl&gt; | decimalLatitude &lt;dbl&gt; | kingdom &lt;chr&gt; | ScientificName &lt;chr&gt; | Oxygène dissout &lt;chr&gt; | pH &lt;chr&gt; | Salinité &lt;chr&gt; | Individual count &lt;chr&gt; |\n",
       "|---|---|---|---|---|---|---|---|---|---|---|---|\n",
       "| 1 | CZIP-RNE-PF-2019-B1-22 | CZIP-RNE-PF-2019-ICHTYO-B1-OCC-34 | 2019-08-28T09:42 | -69.09246 | 48.64362 | Animalia | Pungitius pungitius    | 79.6 | 7.92 | 26.79 | 1   |\n",
       "| 2 | CZIP-RNE-PF-2019-B2-16 | CZIP-RNE-PF-2019-ICHTYO-B2-OCC-24 | 2019-08-27T17:52 | -69.08810 | 48.64101 | Animalia | Gasterosteus aculeatus | 97.7 | 7.2  | 23.41 | 10  |\n",
       "| 3 | CZIP-RNE-PF-2019-B2-16 | CZIP-RNE-PF-2019-ICHTYO-B2-OCC-25 | 2019-08-27T17:52 | -69.08810 | 48.64101 | Animalia | Pungitius pungitius    | 97.7 | 7.2  | 23.41 | 327 |\n",
       "| 4 | CZIP-RNE-PF-2019-B2-20 | CZIP-RNE-PF-2019-ICHTYO-B2-OCC-31 | 2019-08-28T08:21 | -69.08810 | 48.64101 | Animalia | Gasterosteus aculeatus | 96.9 | 7.15 | 25.5  | 2   |\n",
       "| 5 | CZIP-RNE-PF-2019-B2-20 | CZIP-RNE-PF-2019-ICHTYO-B2-OCC-32 | 2019-08-28T08:21 | -69.08810 | 48.64101 | Animalia | Pungitius pungitius    | 96.9 | 7.15 | 25.5  | 91  |\n",
       "| 6 | CZIP-RNE-PF-2019-B2-26 | CZIP-RNE-PF-2019-ICHTYO-B2-OCC-35 | 2019-08-28T16:55 | -69.08810 | 48.64101 | Animalia | Gasterosteus aculeatus | 95.3 | 7.29 | 24.77 | 24  |\n",
       "\n"
      ],
      "text/plain": [
       "  eventID                occurrenceID                      eventDate       \n",
       "1 CZIP-RNE-PF-2019-B1-22 CZIP-RNE-PF-2019-ICHTYO-B1-OCC-34 2019-08-28T09:42\n",
       "2 CZIP-RNE-PF-2019-B2-16 CZIP-RNE-PF-2019-ICHTYO-B2-OCC-24 2019-08-27T17:52\n",
       "3 CZIP-RNE-PF-2019-B2-16 CZIP-RNE-PF-2019-ICHTYO-B2-OCC-25 2019-08-27T17:52\n",
       "4 CZIP-RNE-PF-2019-B2-20 CZIP-RNE-PF-2019-ICHTYO-B2-OCC-31 2019-08-28T08:21\n",
       "5 CZIP-RNE-PF-2019-B2-20 CZIP-RNE-PF-2019-ICHTYO-B2-OCC-32 2019-08-28T08:21\n",
       "6 CZIP-RNE-PF-2019-B2-26 CZIP-RNE-PF-2019-ICHTYO-B2-OCC-35 2019-08-28T16:55\n",
       "  decimalLongitude decimalLatitude kingdom  ScientificName        \n",
       "1 -69.09246        48.64362        Animalia Pungitius pungitius   \n",
       "2 -69.08810        48.64101        Animalia Gasterosteus aculeatus\n",
       "3 -69.08810        48.64101        Animalia Pungitius pungitius   \n",
       "4 -69.08810        48.64101        Animalia Gasterosteus aculeatus\n",
       "5 -69.08810        48.64101        Animalia Pungitius pungitius   \n",
       "6 -69.08810        48.64101        Animalia Gasterosteus aculeatus\n",
       "  Oxygène dissout pH   Salinité Individual count\n",
       "1 79.6            7.92 26.79    1               \n",
       "2 97.7            7.2  23.41    10              \n",
       "3 97.7            7.2  23.41    327             \n",
       "4 96.9            7.15 25.5     2               \n",
       "5 96.9            7.15 25.5     91              \n",
       "6 95.3            7.29 24.77    24              "
      ]
     },
     "metadata": {},
     "output_type": "display_data"
    }
   ],
   "source": [
    "data_core_emof <- merge(data_core, emof, by=c('eventID', 'occurrenceID'))\n",
    "head(data_core_emof)\n",
    "\n"
   ]
  },
  {
   "attachments": {},
   "cell_type": "markdown",
   "metadata": {},
   "source": [
    "On obtient ainsi un fichier ordonné comprenant les mesures d'occurrence et également les mesures associées soit à l'événement soit à l'occurrence. "
   ]
  }
 ],
 "metadata": {
  "kernelspec": {
   "display_name": "R",
   "language": "R",
   "name": "ir"
  },
  "language_info": {
   "codemirror_mode": "r",
   "file_extension": ".r",
   "mimetype": "text/x-r-source",
   "name": "python",
   "pygments_lexer": "r",
   "version": "3.9.13 (main, Aug 25 2022, 23:51:50) [MSC v.1916 64 bit (AMD64)]"
  },
  "orig_nbformat": 4,
  "vscode": {
   "interpreter": {
    "hash": "4051197233e5e40e75def61f341de2eb34beb71d4d8551211b97fe661d3cd9dc"
   }
  }
 },
 "nbformat": 4,
 "nbformat_minor": 2
}
